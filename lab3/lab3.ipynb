{
  "cells": [
    {
      "cell_type": "markdown",
      "metadata": {
        "id": "0z3KlfKDn4_K"
      },
      "source": [
        "# Лабораторная работа 3. \n",
        "# Сетевые алгоритмы. Динамические алгоритмы поиска путей.\n"
      ]
    },
    {
      "attachments": {},
      "cell_type": "markdown",
      "metadata": {
        "id": "96Gi_LEvmSVH"
      },
      "source": [
        "## Выполнил студент группы Самат уулу Максат БВТ2101\n",
        "***"
      ]
    },
    {
      "cell_type": "markdown",
      "metadata": {
        "id": "GjdIp8aToKIe"
      },
      "source": [
        "### Задание\n",
        "\n",
        "1.  Реализовать алгоритм поиска кратчайшего расстояния между двумя вершинами ориентированного взвешенного графа в соответствии с вариантом. \n",
        "\n",
        "2.  Предусмотреть задание графа в виде матрицы смежности/инцидентности, читаемой из файла, либо графически с помощью пользовательского интерфейса. \n",
        "\n",
        "3.  Разработать графический интерфейс пользователя с визуализацией графа и отображением кратчайшего расстояния между задаваемыми пользователем вершинами.\n",
        "\n",
        "4. По результатам работы проанализировать временную сложность работы заданного алгоритма в зависимости от числа узлов и ребер графа.\n",
        "Данные представить в виде таблицы.\n",
        "\n"
      ]
    },
    {
      "attachments": {},
      "cell_type": "markdown",
      "metadata": {
        "id": "LhhUXrAmotIA"
      },
      "source": [
        "### Алгоритмы:\n",
        "\n",
        "Алгоритм Флойда-Уоршелла| Алгоритм Дейкстры | Алгоритм Беллмана-Форда | Алгоритм Джонсона| Алгоритм Левита | Алгоритм Йена"
      ]
    },
    {
      "cell_type": "markdown",
      "metadata": {
        "id": "Wggfn8l7nG72"
      },
      "source": [
        "### Выполнение:"
      ]
    },
    {
      "cell_type": "code",
      "execution_count": 8,
      "metadata": {},
      "outputs": [],
      "source": [
        "import math\n",
        "import copy\n",
        "import time\n",
        "\n",
        "import networkx as nx\n",
        "import pandas as pd\n",
        "\n",
        "from pyvis.network import Network"
      ]
    },
    {
      "cell_type": "code",
      "execution_count": 9,
      "metadata": {},
      "outputs": [],
      "source": [
        "def graph_list(m: list) -> list:\n",
        "    granny = []\n",
        "    for i in range(len(m)):\n",
        "        for j in range(len(m)):\n",
        "            if m[i][j] != math.inf and m[i][j] != 0:\n",
        "                granny.append([i, j, m[i][j]])\n",
        "\n",
        "    return granny\n",
        "\n",
        "def list_graph(e: list, n: int) -> list:\n",
        "    granny = [[math.inf for x in range(n)] for x in range(n)]\n",
        "\n",
        "    for x in range(n):\n",
        "        granny[x][x] = 0\n",
        "    \n",
        "    for edge in e:\n",
        "        granny[edge[0]][edge[1]] = edge[-1]\n",
        "    \n",
        "    return granny"
      ]
    },
    {
      "attachments": {},
      "cell_type": "markdown",
      "metadata": {},
      "source": [
        "#### Визуализация:"
      ]
    },
    {
      "cell_type": "code",
      "execution_count": 10,
      "metadata": {},
      "outputs": [],
      "source": [
        "def vis(m, way, title):\n",
        "    G = nx.Graph()\n",
        "    e = graph_list(m)\n",
        "\n",
        "    for i in range(len(m)):\n",
        "        if i in way:\n",
        "            G.add_node(i, label=f'{i}', color=\"red\")\n",
        "        else:\n",
        "            G.add_node(i, label=f'{i}', color=\"grey\")\n",
        "\n",
        "\n",
        "    for edge in e:\n",
        "        G.add_edge(edge[0], edge[1], title=edge[-1], color=\"grey\")\n",
        "\n",
        "    for i in range(len(way)-1, 0, -1):\n",
        "        G.add_edge(way[i], way[i-1], title=edge[-1], color=\"red\")\n",
        "        \n",
        "\n",
        "    nt = Network(notebook=True, directed=True)\n",
        "    nt.from_nx(G)\n",
        "    nt.show(f'{title}.html')"
      ]
    },
    {
      "attachments": {},
      "cell_type": "markdown",
      "metadata": {},
      "source": [
        "#### Чтение данных из файла:\n",
        "***"
      ]
    },
    {
      "attachments": {},
      "cell_type": "markdown",
      "metadata": {},
      "source": [
        "##### Чтение матрицы смежности из файла:"
      ]
    },
    {
      "cell_type": "code",
      "execution_count": 11,
      "metadata": {},
      "outputs": [
        {
          "name": "stdout",
          "output_type": "stream",
          "text": [
            "[0, 2, inf, 3, 1, inf, inf, 10]\n",
            "[2, 0, 4, inf, inf, inf, inf, inf]\n",
            "[inf, 4, 0, inf, inf, inf, inf, 3]\n",
            "[3, inf, inf, 0, inf, inf, inf, 8]\n",
            "[1, inf, inf, inf, 0, 2, inf, inf]\n",
            "[inf, inf, inf, inf, 2, 0, 3, inf]\n",
            "[inf, inf, inf, inf, inf, 3, 0, 1]\n",
            "[10, inf, 3, 8, inf, inf, 1, 0]\n"
          ]
        }
      ],
      "source": [
        "def read_adjancy(title: str):\n",
        "    matrix = []\n",
        "\n",
        "    with open(title) as f:\n",
        "        for line in f:\n",
        "            if line != '\\n':\n",
        "                l = line.strip().split(\"]\")\n",
        "                l[0] = l[0][1:]\n",
        "                l = l[0].split(\", \")\n",
        "                matrix.append([int(x) if x.isdigit() and x != '0' else math.inf for x in l])\n",
        "            else: break\n",
        "\n",
        "        for i in range(len(matrix)):\n",
        "            matrix[i][i] = 0\n",
        "\n",
        "    return matrix\n",
        "    \n",
        "for i in read_adjancy(\"adjacency.txt\"):\n",
        "    print(i)"
      ]
    },
    {
      "attachments": {},
      "cell_type": "markdown",
      "metadata": {},
      "source": [
        "##### Чтение матрицы инцидентности из файла:"
      ]
    },
    {
      "cell_type": "code",
      "execution_count": 12,
      "metadata": {},
      "outputs": [
        {
          "name": "stdout",
          "output_type": "stream",
          "text": [
            "[0, 2, inf, 3, 1, inf, inf, 10]\n",
            "[2, 0, 4, inf, inf, inf, inf, inf]\n",
            "[inf, 4, 0, inf, inf, inf, inf, 3]\n",
            "[3, inf, inf, 0, inf, inf, inf, 8]\n",
            "[1, inf, inf, inf, 0, 2, inf, inf]\n",
            "[inf, inf, inf, inf, 2, 0, 3, inf]\n",
            "[inf, inf, inf, inf, inf, 3, 0, 1]\n",
            "[10, inf, 3, 8, inf, inf, 1, 0]\n"
          ]
        }
      ],
      "source": [
        "def read_incidence(title: str):\n",
        "    m, e = [], []\n",
        "\n",
        "    with open(title) as f:\n",
        "        for line in f:\n",
        "            if line != '\\n':\n",
        "                l = line.strip().split(\"]\")\n",
        "                l[0] = l[0][1:]\n",
        "                l = l[0].split(\", \")\n",
        "                m.append([int(x) for x in l])\n",
        "            else: break\n",
        "\n",
        "    for i in range(len(m[-1])):\n",
        "        for j in range(len(m)):\n",
        "            for k in range(len(m)):\n",
        "                if j != k and m[j][i] != 0:\n",
        "                    if m[j][i] == m[k][i]:\n",
        "                        e.append([j, k, m[j][i]])\n",
        "                    elif m[j][i] == -1*m[k][i]:\n",
        "                        if m[j][i] < m[k][i]:\n",
        "                            e.append([k, j, m[k][i]])\n",
        "                        else:\n",
        "                            e.append([j, k, m[j][i]])\n",
        "\n",
        "    return list_graph(e, len(m))\n",
        "\n",
        "for i in read_incidence(\"incidence.txt\"):\n",
        "    print(i)"
      ]
    },
    {
      "attachments": {},
      "cell_type": "markdown",
      "metadata": {},
      "source": [
        "##### Чтение нескольких матриц смежности из файла:"
      ]
    },
    {
      "cell_type": "code",
      "execution_count": 13,
      "metadata": {},
      "outputs": [],
      "source": [
        "def read_adjancies(title: str):\n",
        "    matrixes = []\n",
        "\n",
        "    with open(title) as f:\n",
        "        matrixes = f.read().split(\"]\\n\")\n",
        "\n",
        "        for i in range(len(matrixes)):\n",
        "            matrixes[i] += ']'\n",
        "\n",
        "            if matrixes[i][0] == '\\n': \n",
        "                matrixes[i] = matrixes[i][1:]\n",
        "\n",
        "            with open(\"temp.txt\", 'w') as lamborghini:\n",
        "                lamborghini.write(matrixes[i])\n",
        "\n",
        "            matrixes[i] = read_adjancy(\"temp.txt\")\n",
        "    \n",
        "    return matrixes"
      ]
    },
    {
      "attachments": {},
      "cell_type": "markdown",
      "metadata": {},
      "source": [
        "#### Входные данные: "
      ]
    },
    {
      "cell_type": "code",
      "execution_count": 14,
      "metadata": {},
      "outputs": [],
      "source": [
        "start = 0\n",
        "end = 7\n",
        "\n",
        "matrix = read_adjancy(\"adjacency.txt\")"
      ]
    },
    {
      "attachments": {},
      "cell_type": "markdown",
      "metadata": {},
      "source": [
        "#### Алгоритмы:\n",
        "***"
      ]
    },
    {
      "attachments": {},
      "cell_type": "markdown",
      "metadata": {},
      "source": [
        "##### Алгоритм Флойда-Уоршелла"
      ]
    },
    {
      "cell_type": "code",
      "execution_count": 15,
      "metadata": {
        "id": "681a95mZnOSa"
      },
      "outputs": [
        {
          "name": "stdout",
          "output_type": "stream",
          "text": [
            "length = 7 \n",
            "path = [7, 6, 5, 4, 0]\n",
            "Warning: When  cdn_resources is 'local' jupyter notebook has issues displaying graphics on chrome/safari. Use cdn_resources='in_line' or cdn_resources='remote' if you have issues viewing graphics in a notebook.\n",
            "floyd_warshall.html\n"
          ]
        }
      ],
      "source": [
        "def floyd_warshall(m, start, end):\n",
        "\n",
        "    # Количество вершин\n",
        "    n = len(m)\n",
        "    # Матрица предыдущих вершин\n",
        "    p = [[None for x in range(n)] for y in range(n)]\n",
        "\n",
        "\n",
        "    # Функция возвращает кратчайший путь.\n",
        "    def path(p, v, u):\n",
        "        result = [u]\n",
        "        while u != None:\n",
        "            u = p[u][v]\n",
        "            result.append(u)\n",
        "\n",
        "        result[-1] = v\n",
        "        return result\n",
        "    \n",
        "\n",
        "    for k in range(n):\n",
        "        for i in range(n):\n",
        "            for j in range(n):\n",
        "                # Проход через дополнительную вершин\n",
        "                d = m[i][k] + m[k][j]\n",
        "                \n",
        "                # Если проход через дополнительную вершину короче\n",
        "                # прохода без неё, то обновляем вес ребра.\n",
        "                if m[i][j] > d:\n",
        "                    m[i][j] = d\n",
        "                    p[i][j] = k\n",
        "\n",
        "    return [m, path(p, start, end)]\n",
        "\n",
        "\n",
        "ma = copy.deepcopy(matrix)\n",
        "result = floyd_warshall(ma, start, end)\n",
        "print(\"length =\", result[0][start][end], \"\\npath =\", result[1])\n",
        "vis(matrix, result[1], \"floyd_warshall\")"
      ]
    },
    {
      "attachments": {},
      "cell_type": "markdown",
      "metadata": {},
      "source": [
        "##### Алгоритм Дейкстры"
      ]
    },
    {
      "cell_type": "code",
      "execution_count": 16,
      "metadata": {},
      "outputs": [
        {
          "name": "stdout",
          "output_type": "stream",
          "text": [
            "length = 7 \n",
            "path = [7, 6, 5, 4, 0]\n",
            "Warning: When  cdn_resources is 'local' jupyter notebook has issues displaying graphics on chrome/safari. Use cdn_resources='in_line' or cdn_resources='remote' if you have issues viewing graphics in a notebook.\n",
            "dijkstra.html\n"
          ]
        }
      ],
      "source": [
        "def dijkstra(m, start, end):\n",
        "    \n",
        "    # Количество вершин\n",
        "    n = len(m)\n",
        "    # Количество вершин\n",
        "    v = start\n",
        "    # Массив кратчайших путей до n-ой вершины\n",
        "    d = [math.inf]*n\n",
        "    # Массив предыдущих вершин\n",
        "    prev = [None]*n\n",
        "    # Вершины, доступные для поиска кратчайшего пути\n",
        "    q = [x for x in range(n)]\n",
        "    \n",
        "    # Обнуляем кратчайший путь из стартовой вершины в себя.\n",
        "    d[v] = 0\n",
        "\n",
        "    # Функция возвращает вершину, путь до которой минимален.\n",
        "    def v_min(t, q):\n",
        "        # Вершина, путь до которой минимален\n",
        "        vmin = -1\n",
        "        # Кратчайший путь до этой вершины\n",
        "        a = math.inf\n",
        "\n",
        "        # Ищем кратчайший путь до непосещённой вершины.\n",
        "        for i, j in enumerate(t):\n",
        "            if j < a and i in q:\n",
        "                a = j\n",
        "                vmin = i\n",
        "\n",
        "        return vmin\n",
        "  \n",
        "\n",
        "    # Пока существуют непосещённые вершины считаем \n",
        "    # кратчайшие пути до них с учётом посёщенных вершин. \n",
        "    while v != -1:\n",
        "        for i, dw in enumerate(m[v]):\n",
        "            if i in q:\n",
        "                f = d[v] + dw\n",
        "                if f < d[i]:\n",
        "                    d[i] = f\n",
        "                    prev[i] = v\n",
        "\n",
        "        v = v_min(d, q)\n",
        "\n",
        "        # Удаяляем вершину из массива доступных вершин.\n",
        "        if v >= 0:\n",
        "            q.remove(v)\n",
        "\n",
        "    # Поиск кратчайшего пути\n",
        "    route = [end]\n",
        "    while end != start and route[-1] != None:\n",
        "        end = prev[route[-1]]\n",
        "        route.append(end)\n",
        "    return [d, route]\n",
        "\n",
        "\n",
        "result = dijkstra(matrix, start, end)\n",
        "print(\"length =\", result[0][end], \"\\npath =\", result[1])\n",
        "vis(matrix, result[1], \"dijkstra\")"
      ]
    },
    {
      "attachments": {},
      "cell_type": "markdown",
      "metadata": {},
      "source": [
        "##### Алгоритм Беллмана-Форда"
      ]
    },
    {
      "cell_type": "code",
      "execution_count": 17,
      "metadata": {},
      "outputs": [
        {
          "name": "stdout",
          "output_type": "stream",
          "text": [
            "length = 7 \n",
            "path = [7, 6, 5, 4, 0]\n",
            "Warning: When  cdn_resources is 'local' jupyter notebook has issues displaying graphics on chrome/safari. Use cdn_resources='in_line' or cdn_resources='remote' if you have issues viewing graphics in a notebook.\n",
            "bellman_ford.html\n"
          ]
        }
      ],
      "source": [
        "def bellman_ford(m, start, end):\n",
        "\n",
        "    # Количество вершин\n",
        "    n = len(m)\n",
        "    # Массив ребёр\n",
        "    e = graph_list(m)\n",
        "    # Матрица предыдущих вершин\n",
        "    p = [[None for x in range(n-1)] for x in range(n)]\n",
        "    # Матрица кратчайших путей\n",
        "    a = [[math.inf for x in range(n-1)] for x in range(n)]\n",
        "\n",
        "    # Обнуляем кратчайший путь из стартовой вершины в себя.\n",
        "    a[start][0] = 0\n",
        "\n",
        "    for i in range(1, n-1):\n",
        "        for edge in e:\n",
        "            # Проход через вершину\n",
        "            d = a[edge[0]][i-1] + edge[-1]\n",
        "\n",
        "            # Если проход через вершину короче \n",
        "            # прохода из матрицы кратчайших путей, \n",
        "            # то заменяем его.\n",
        "            if d < a[edge[1]][i]:\n",
        "                a[edge[1]][i] = d\n",
        "                p[edge[1]][i] = edge[0]\n",
        "    \n",
        "    # Количество ребёр в кратчайшем пути\n",
        "    j = a[end].index(min(a[end]))\n",
        "    # Вершина, которую необходимо достичь\n",
        "    i = end                                                 \n",
        "    # Кратчайший путь\n",
        "    route = [math.inf]*(j+1)         \n",
        "    # Начало кратчайшего пути\n",
        "    route[0] = start                                        \n",
        "\n",
        "    # Поиск кратчайшего пути\n",
        "    while j > 0:\n",
        "        route[j] = i\n",
        "        i = p[i][j]\n",
        "        j -= 1\n",
        "    \n",
        "    return [a, route]\n",
        "\n",
        "\n",
        "result = bellman_ford(matrix, start, end)\n",
        "print(\"length =\", result[0][end][len(result[1])-1], \"\\npath =\", result[1][::-1])\n",
        "vis(matrix, result[1][::-1], \"bellman_ford\")"
      ]
    },
    {
      "attachments": {},
      "cell_type": "markdown",
      "metadata": {},
      "source": [
        "##### Алгоритм Джонсона"
      ]
    },
    {
      "cell_type": "code",
      "execution_count": 18,
      "metadata": {},
      "outputs": [
        {
          "name": "stdout",
          "output_type": "stream",
          "text": [
            "length = 7 \n",
            "path = [7, 6, 5, 4, 0]\n",
            "Warning: When  cdn_resources is 'local' jupyter notebook has issues displaying graphics on chrome/safari. Use cdn_resources='in_line' or cdn_resources='remote' if you have issues viewing graphics in a notebook.\n",
            "johnson.html\n"
          ]
        }
      ],
      "source": [
        "def johnson(m, start, end):\n",
        "    \n",
        "    # Массив ребёр\n",
        "    e = graph_list(m)\n",
        "    # Количество ребёр\n",
        "    e_num = len(e)\n",
        "    # Количество вершин\n",
        "    v_num = len(m)\n",
        "    # Матрица кратчайших путей\n",
        "    d = [[math.inf for x in range(v_num)] for x in range(v_num)]\n",
        "    # Кратчайший путь\n",
        "    p = []\n",
        "    \n",
        "    # Добавляем временную вершину, из которой \n",
        "    # исходят рёбра с нулевым весом.\n",
        "    for i in range(v_num):\n",
        "        e.append([v_num, i, 0])\n",
        "\n",
        "    \n",
        "    # Функция возвращает массив кратчайчих путей до вершин. \n",
        "    # Является упрощенным алгоритмом Беллмана-Форда.\n",
        "    def easy_bellman_ford(e, n):\n",
        "        d = [math.inf]*n\n",
        "        d[n-1] = 0\n",
        "        for i in range(1, n-1):\n",
        "            for edge in e:\n",
        "                if d[edge[1]] > d[edge[0]] + edge[-1]:\n",
        "                    d[edge[1]] = d[edge[0]] + edge[-1]\n",
        "    \n",
        "        return d\n",
        "    \n",
        "    # Массив кратчайших путей от временной\n",
        "    # вершины до всех остальных.\n",
        "    h = easy_bellman_ford(e, v_num+1)\n",
        "\n",
        "    # Изменяем веса ребёр так,\n",
        "    # чтобы сделать их положительными.\n",
        "    for i in range(e_num):\n",
        "        e[i][-1] += h[e[i][0]] - h[e[i][1]]\n",
        "    \n",
        "    # Удаляем временную вершину.\n",
        "    del e[-v_num:-1]\n",
        "    e.pop()\n",
        "\n",
        "    # Используем алгоритм Дейкстры для нахождения\n",
        "    # кратчайших путей до заданной вершины.\n",
        "    m = list_graph(e, v_num)\n",
        "    for i in range(v_num):\n",
        "        temp_result = dijkstra(m, i, end)\n",
        "        p.append(temp_result[-1])\n",
        "\n",
        "        # Возвращаем исходные веса ребёр.\n",
        "        for j in range(v_num):\n",
        "            d[i][j] = temp_result[0][j] + h[j] - h[i]\n",
        "    \n",
        "\n",
        "    return [d, p]\n",
        "\n",
        "result = johnson(matrix, start, end)\n",
        "print(\"length =\", result[0][start][end], \"\\npath =\", result[1][start])\n",
        "vis(matrix, result[1][start], \"johnson\")"
      ]
    },
    {
      "attachments": {},
      "cell_type": "markdown",
      "metadata": {},
      "source": [
        "##### Алгоритм Левита"
      ]
    },
    {
      "cell_type": "code",
      "execution_count": 19,
      "metadata": {},
      "outputs": [
        {
          "name": "stdout",
          "output_type": "stream",
          "text": [
            "length = 7 \n",
            "path = [7, 6, 5, 4, 0]\n",
            "Warning: When  cdn_resources is 'local' jupyter notebook has issues displaying graphics on chrome/safari. Use cdn_resources='in_line' or cdn_resources='remote' if you have issues viewing graphics in a notebook.\n",
            "levit.html\n"
          ]
        }
      ],
      "source": [
        "def levit(m, start, end):\n",
        "    \n",
        "    # Количество вершин\n",
        "    n = len(m)\n",
        "    # Массив кратчайших путей до n-ой вершины\n",
        "    d = [math.inf]*n\n",
        "    # Массив предыдущих вершин\n",
        "    p = [None]*n\n",
        "\n",
        "    # Обнуляем кратчайший путь из стартовой вершины в себя.\n",
        "    d[start] = 0\n",
        "\n",
        "    # Вершины, расстояние до которых уже вычислено\n",
        "    m0 = []\n",
        "    # Вершины, расстояние до которых вычисляется\n",
        "    m1 = [start]\n",
        "    # Вершины, расстояние до которых ещё не вычислено\n",
        "    m2 = [int(x) for x in range(n)]\n",
        "    m2.remove(start)\n",
        "\n",
        "    # Массив ребёр\n",
        "    e = graph_list(m)\n",
        "\n",
        "    while len(m1) != 0:\n",
        "        v = m1.pop(0)\n",
        "        m0.append(v)\n",
        "        \n",
        "        for edge in e:\n",
        "            if edge[0] == v:\n",
        "\n",
        "                # Если конец ребра принадлежит M2, \n",
        "                # то переносим его во множество M1\n",
        "                # в конец очереди.\n",
        "                # Обновляем расстояние до этой вершины.\n",
        "                if edge[1] in m2:\n",
        "                    m1.append(edge[1])\n",
        "                    m2.remove(edge[1])\n",
        "                    d[edge[1]] = d[v] + edge[-1]\n",
        "                    p[edge[1]] = v\n",
        "\n",
        "                # Если конец ребра принадлежит M1, \n",
        "                # то пытаемся уменьшить расстояние до этой вершины.\n",
        "                if edge[1] in m1:\n",
        "                    f = d[v] + edge[-1]\n",
        "                    if d[edge[1]] > f:\n",
        "                        d[edge[1]] = f\n",
        "                        p[edge[1]] = v\n",
        "\n",
        "                # Если конец ребра принадлежит M0,\n",
        "                # и если DT можно уменьшить расстояние до этой вершины,\n",
        "                # то обновляем расстояние, а конец ребра \n",
        "                # возвращаем в множество M1, помещая его в начало очереди.\n",
        "                if edge[1] in m0 and d[edge[1]] > d[v] + edge[-1]:\n",
        "                    d[edge[1]] = d[v] + edge[-1]\n",
        "                    p[edge[1]] = v\n",
        "                    m1.insert(0, edge[1])\n",
        "    \n",
        "    # Поиск кратчайшего пути\n",
        "    route = [end]\n",
        "    while end != start:\n",
        "        end = p[route[-1]]\n",
        "        route.append(end)\n",
        "    return [d, route]\n",
        "\n",
        "\n",
        "result = levit(matrix, start, end)\n",
        "print(\"length =\", result[0][end], \"\\npath =\", result[1])\n",
        "vis(matrix, result[1], \"levit\")"
      ]
    },
    {
      "attachments": {},
      "cell_type": "markdown",
      "metadata": {},
      "source": [
        "##### Алгоритм Йена"
      ]
    },
    {
      "cell_type": "code",
      "execution_count": 20,
      "metadata": {},
      "outputs": [
        {
          "name": "stdout",
          "output_type": "stream",
          "text": [
            "length = 7 \tpath = [7, 6, 5, 4, 0]\n",
            "Warning: When  cdn_resources is 'local' jupyter notebook has issues displaying graphics on chrome/safari. Use cdn_resources='in_line' or cdn_resources='remote' if you have issues viewing graphics in a notebook.\n",
            "yen_0.html\n",
            "length = 9 \tpath = [7, 2, 1, 0]\n",
            "Warning: When  cdn_resources is 'local' jupyter notebook has issues displaying graphics on chrome/safari. Use cdn_resources='in_line' or cdn_resources='remote' if you have issues viewing graphics in a notebook.\n",
            "yen_1.html\n",
            "length = 10 \tpath = [7, 0]\n",
            "Warning: When  cdn_resources is 'local' jupyter notebook has issues displaying graphics on chrome/safari. Use cdn_resources='in_line' or cdn_resources='remote' if you have issues viewing graphics in a notebook.\n",
            "yen_2.html\n",
            "length = 11 \tpath = [7, 3, 0]\n",
            "Warning: When  cdn_resources is 'local' jupyter notebook has issues displaying graphics on chrome/safari. Use cdn_resources='in_line' or cdn_resources='remote' if you have issues viewing graphics in a notebook.\n",
            "yen_3.html\n"
          ]
        }
      ],
      "source": [
        "def yen(m, start, end, k=1):\n",
        "    \n",
        "    # Количество вершин\n",
        "    n = len(m)\n",
        "    # Массив k кратчайших путей до заданной вершины\n",
        "    paths = []\n",
        "    # Массив k расстояний до заданной вершины\n",
        "    lengths = []\n",
        "\n",
        "    # Используем алгоритм Дейкстры для \n",
        "    # нахождение первого кратчайшего пути.\n",
        "    result = dijkstra(m, start, end)\n",
        "    paths.append(result[1][::-1])\n",
        "    lengths.append(result[0][end])\n",
        "\n",
        "    # Массив кандидатов кратчайших путей до заданной вершины\n",
        "    canditates = []\n",
        "    # Массив кандидатов расстояний до заданной вершины\n",
        "    canditates_length = []\n",
        "\n",
        "    # Ищем k кратчайших путей\n",
        "    for h in range(k-1):\n",
        "        for i in range(1, len(paths[h])):\n",
        "            medit = copy.deepcopy(m)\n",
        "            # Корневой путь, относительно которого будет ветвление\n",
        "            root_path = paths[h][0:i]\n",
        "            # Вершина, относительно которой будет ветвление\n",
        "            spur_node = root_path[-1]\n",
        "            # Длина корневого пути\n",
        "            pre_lenght = 0\n",
        "\n",
        "            for j in range(len(root_path)-1):\n",
        "                pre_lenght += medit[root_path[j]][root_path[j+1]]\n",
        "            \n",
        "            # Удаляем вершины корневого пути из графа \n",
        "            # для удачного ветвления.\n",
        "            for j in root_path:\n",
        "                if j != spur_node:\n",
        "                    medit[j] = [math.inf]*n\n",
        "\n",
        "            # Удаляем все последние рёбра из предыдущих кратчайших путей,\n",
        "            # когда ветвление начинается с начальной вершины, для удачного ветвления.\n",
        "            if len(root_path) == 1:\n",
        "                for forest in paths:\n",
        "                    medit[forest[-2]][forest[-1]] = math.inf\n",
        "\n",
        "            # Удаляем ребро из предыдущего пути\n",
        "            # для удачного ветвления.\n",
        "            medit[spur_node][paths[h][i]] = math.inf\n",
        "\n",
        "            # Используем алгоритм Дейкстры для \n",
        "            # нахождение следующего кратчайшего пути.\n",
        "            result = dijkstra(medit, spur_node, end)\n",
        "\n",
        "            # Если такой путь существует, то полный путь его длину добавляем в кандидаты.\n",
        "            if result[0][end] != math.inf:\n",
        "                root_path.extend(result[1][-2::-1])\n",
        "                pre_lenght += result[0][end]\n",
        "                if root_path not in canditates and root_path not in paths:\n",
        "                    canditates.append(root_path)\n",
        "                    canditates_length.append(pre_lenght)\n",
        "\n",
        "        # Среди кандидатов выбираем кратчайший путь.\n",
        "        if len(canditates_length) != 0:\n",
        "            best = canditates_length.index(min(canditates_length))\n",
        "            if canditates[best] not in paths:\n",
        "                paths.append(canditates.pop(best))\n",
        "                lengths.append(canditates_length.pop(best))\n",
        "\n",
        "        else: break\n",
        "\n",
        "    return [lengths, paths]\n",
        "\n",
        "\n",
        "result = yen(matrix, start, end, k=10)\n",
        "for i in range(len(result[0])):\n",
        "    print(\"length =\", result[0][i], \"\\tpath =\", result[1][i][::-1])\n",
        "    vis(matrix, result[1][i][::-1], f\"yen_{i}\")\n",
        "\n",
        "#print(result)"
      ]
    },
    {
      "cell_type": "code",
      "execution_count": 21,
      "metadata": {},
      "outputs": [
        {
          "data": {
            "text/plain": [
              "'matrix = [[0, 2, 6, 8, math.inf, math.inf, 3, math.inf, math.inf],\\n          [2, 0, 9, 3, math.inf, 4, 9, math.inf, math.inf],\\n          [6, 9, 0, 7, math.inf, math.inf, math.inf, math.inf, math.inf],\\n          [8, 3, 7, 0, 5, 5, math.inf, math.inf, math.inf],\\n          [math.inf, math.inf, math.inf, 5, 0, math.inf, 8, 9, math.inf],\\n          [math.inf, 4, math.inf, 5, math.inf, 0, math.inf, 6, 4],\\n          [3, 9, math.inf, math.inf, 8, math.inf, 0, math.inf, math.inf],\\n          [math.inf, math.inf, math.inf, math.inf, 9, 6, math.inf, 0, 1],\\n          [math.inf, math.inf, math.inf, math.inf, math.inf, 4, math.inf, 1, 0]]'"
            ]
          },
          "execution_count": 21,
          "metadata": {},
          "output_type": "execute_result"
        }
      ],
      "source": [
        "\"\"\"matrix = [[0, 2, 6, 8, math.inf, math.inf, 3, math.inf, math.inf],\n",
        "          [2, 0, 9, 3, math.inf, 4, 9, math.inf, math.inf],\n",
        "          [6, 9, 0, 7, math.inf, math.inf, math.inf, math.inf, math.inf],\n",
        "          [8, 3, 7, 0, 5, 5, math.inf, math.inf, math.inf],\n",
        "          [math.inf, math.inf, math.inf, 5, 0, math.inf, 8, 9, math.inf],\n",
        "          [math.inf, 4, math.inf, 5, math.inf, 0, math.inf, 6, 4],\n",
        "          [3, 9, math.inf, math.inf, 8, math.inf, 0, math.inf, math.inf],\n",
        "          [math.inf, math.inf, math.inf, math.inf, 9, 6, math.inf, 0, 1],\n",
        "          [math.inf, math.inf, math.inf, math.inf, math.inf, 4, math.inf, 1, 0]]\"\"\""
      ]
    },
    {
      "attachments": {},
      "cell_type": "markdown",
      "metadata": {},
      "source": [
        "#### Тест скорости работы алгоритмов"
      ]
    },
    {
      "cell_type": "code",
      "execution_count": 22,
      "metadata": {},
      "outputs": [],
      "source": [
        "def make_test(algorithm, m, start=0, end=4):\n",
        "    ma = copy.deepcopy(m)\n",
        "    \n",
        "    count = time.time()\n",
        "    algorithm(ma, start, end)\n",
        "    result = (time.time() - count) * 1000\n",
        "\n",
        "    return result"
      ]
    },
    {
      "cell_type": "code",
      "execution_count": 30,
      "metadata": {},
      "outputs": [
        {
          "name": "stdout",
          "output_type": "stream",
          "text": [
            "        nodes floyd_warshall    dijkstra bellman_ford               johnson  \\\n",
            "0           5            0.0         0.0          0.0                   0.0   \n",
            "1           7            0.0         0.0          0.0               0.99206   \n",
            "2          12            0.0         0.0          0.0              0.991583   \n",
            "3          20       4.006147    1.004934     3.043652              6.976843   \n",
            "4          25       9.011984         0.0          0.0             11.997223   \n",
            "5          30       8.994818    1.003265     2.968311             20.992517   \n",
            "6  complexity         |V|**3  |V|**2 + m      |V|*|E|  (|V|**2 + m)*|V|*|E|   \n",
            "\n",
            "      levit                 yen  \n",
            "0       0.0                 0.0  \n",
            "1       0.0                 0.0  \n",
            "2       0.0                 0.0  \n",
            "3       0.0            1.000881  \n",
            "4  1.002312                 0.0  \n",
            "5       0.0                 0.0  \n",
            "6   |V|*|E|  (|V|**2 + m)*|V|*k  \n"
          ]
        }
      ],
      "source": [
        "results_floyd_warshall = []\n",
        "results_dijkstra = []\n",
        "results_bellman_ford = []\n",
        "results_johnson = []\n",
        "results_levit = []\n",
        "results_yen_first = []\n",
        "\n",
        "graphs = read_adjancies('graphs.txt')[:-1]\n",
        "\n",
        "\n",
        "for i in graphs:\n",
        "    results_floyd_warshall.append(make_test(floyd_warshall, i))\n",
        "    results_dijkstra.append(make_test(dijkstra, i))\n",
        "    results_bellman_ford.append(make_test(bellman_ford, i))\n",
        "    results_johnson.append(make_test(johnson, i))\n",
        "    results_levit.append(make_test(levit, i))\n",
        "    results_yen_first.append(make_test(yen, i))\n",
        "\n",
        "results_floyd_warshall.append(\"|V|**3\")\n",
        "results_dijkstra.append(\"|V|**2 + m\")\n",
        "results_bellman_ford.append(\"|V|*|E|\")\n",
        "results_johnson.append(\"(|V|**2 + m)*|V|*|E|\")\n",
        "results_levit.append(\"|V|*|E|\")\n",
        "results_yen_first.append(\"(|V|**2 + m)*|V|*k\")\n",
        "\n",
        "data = {\n",
        "    \"nodes\": [5, 7, 12, 20, 25, 30, \"complexity\"],\n",
        "    \"floyd_warshall\": results_floyd_warshall,\n",
        "    \"dijkstra\": results_dijkstra,\n",
        "    \"bellman_ford\": results_bellman_ford,\n",
        "    \"johnson\": results_johnson,\n",
        "    \"levit\": results_levit,\n",
        "    \"yen\": results_yen_first\n",
        "}\n",
        "#print(len(data[\"nodes\"]), len(data[\"floyd_warshall\"]), len(data[\"dijkstra\"]), len(data[\"bellman_ford\"]), len(data[\"johnson\"]), len(data[\"levit\"]), len(data[\"yen\"]))\n",
        "\n",
        "df = pd.DataFrame(data)\n",
        "print(df)"
      ]
    },
    {
      "cell_type": "markdown",
      "metadata": {
        "id": "diOb-K7LnO5a"
      },
      "source": [
        "### Вывод"
      ]
    }
  ],
  "metadata": {
    "colab": {
      "provenance": []
    },
    "kernelspec": {
      "display_name": "base",
      "language": "python",
      "name": "python3"
    },
    "language_info": {
      "codemirror_mode": {
        "name": "ipython",
        "version": 3
      },
      "file_extension": ".py",
      "mimetype": "text/x-python",
      "name": "python",
      "nbconvert_exporter": "python",
      "pygments_lexer": "ipython3",
      "version": "3.9.13"
    },
    "vscode": {
      "interpreter": {
        "hash": "b09ec625f77bf4fd762565a912b97636504ad6ec901eb2d0f4cf5a7de23e1ee5"
      }
    }
  },
  "nbformat": 4,
  "nbformat_minor": 0
}
