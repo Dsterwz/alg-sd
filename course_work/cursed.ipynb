{
  "cells": [
    {
      "attachments": {},
      "cell_type": "markdown",
      "metadata": {
        "id": "0z3KlfKDn4_K"
      },
      "source": [
        "# Курсовая работа. \n"
      ]
    },
    {
      "attachments": {},
      "cell_type": "markdown",
      "metadata": {
        "id": "96Gi_LEvmSVH"
      },
      "source": [
        "## Выполнил студент группы Самат уулу Максат БВТ2101\n",
        "***"
      ]
    },
    {
      "attachments": {},
      "cell_type": "markdown",
      "metadata": {
        "id": "GjdIp8aToKIe"
      },
      "source": [
        "### Задание\n",
        "\n",
        "Написать программу, которая будет считывать данные из CSV файла, содержащего информацию о продажах товаров в магазине. Данные в файле содержатся в следующем формате:\n",
        "\n",
        "<i>| Номер заказа | Дата заказа | Название товара | Категория товара | Количество продаж | Цена за единицу | Общая стоимость | </i>\n",
        "\n",
        "Необходимо:\n",
        "\n",
        "1.  Рассчитать общую выручку магазина\n",
        "\n",
        "2.  Найти товар, который был продан наибольшее количество раз\n",
        "\n",
        "3.  Найти товар, который принес наибольшую выручку.\n",
        "\n",
        "4.  Составить отчет, содержащий информацию об общей выручке магазина, количестве проданных единиц каждого товар и доле каждого товара в общей выручке.\n",
        "\n",
        "Для решения задач необходимо использовать структуры данных, такие как массивы и хеш-таблицы, а также различные алгоритмы обработки данных, например, сортировку и поиск. Также необходимо учитывать возможные ошибки ввода-вывода и обрабатывать их в соответствии с требованиями."
      ]
    },
    {
      "attachments": {},
      "cell_type": "markdown",
      "metadata": {
        "id": "Wggfn8l7nG72"
      },
      "source": [
        "### Выполнение:"
      ]
    },
    {
      "cell_type": "code",
      "execution_count": 6,
      "metadata": {},
      "outputs": [],
      "source": [
        "import copy\n",
        "import math\n",
        "\n",
        "import pandas as pd"
      ]
    },
    {
      "attachments": {},
      "cell_type": "markdown",
      "metadata": {},
      "source": [
        "#### Входные данные: "
      ]
    },
    {
      "cell_type": "code",
      "execution_count": 4,
      "metadata": {},
      "outputs": [
        {
          "data": {
            "text/html": [
              "<div>\n",
              "<style scoped>\n",
              "    .dataframe tbody tr th:only-of-type {\n",
              "        vertical-align: middle;\n",
              "    }\n",
              "\n",
              "    .dataframe tbody tr th {\n",
              "        vertical-align: top;\n",
              "    }\n",
              "\n",
              "    .dataframe thead th {\n",
              "        text-align: right;\n",
              "    }\n",
              "</style>\n",
              "<table border=\"1\" class=\"dataframe\">\n",
              "  <thead>\n",
              "    <tr style=\"text-align: right;\">\n",
              "      <th></th>\n",
              "      <th>Номер заказа</th>\n",
              "      <th>Дата заказа</th>\n",
              "      <th>Название товара</th>\n",
              "      <th>Категория товара</th>\n",
              "      <th>Количество продаж</th>\n",
              "      <th>Цена за единицу</th>\n",
              "      <th>Общая стоимость</th>\n",
              "    </tr>\n",
              "  </thead>\n",
              "  <tbody>\n",
              "    <tr>\n",
              "      <th>0</th>\n",
              "      <td>4001</td>\n",
              "      <td>01.02.2022</td>\n",
              "      <td>Apple iPhone 14</td>\n",
              "      <td>Смартфоны</td>\n",
              "      <td>500</td>\n",
              "      <td>89990</td>\n",
              "      <td>44995000</td>\n",
              "    </tr>\n",
              "    <tr>\n",
              "      <th>1</th>\n",
              "      <td>4002</td>\n",
              "      <td>02.04.2022</td>\n",
              "      <td>Samsung Galaxy S22 Ultra</td>\n",
              "      <td>Смартфоны</td>\n",
              "      <td>300</td>\n",
              "      <td>99990</td>\n",
              "      <td>29997000</td>\n",
              "    </tr>\n",
              "    <tr>\n",
              "      <th>2</th>\n",
              "      <td>4003</td>\n",
              "      <td>03.01.2022</td>\n",
              "      <td>Игровые приставки</td>\n",
              "      <td>Игровые приставки</td>\n",
              "      <td>200</td>\n",
              "      <td>59990</td>\n",
              "      <td>11998000</td>\n",
              "    </tr>\n",
              "    <tr>\n",
              "      <th>3</th>\n",
              "      <td>4004</td>\n",
              "      <td>04.02.2022</td>\n",
              "      <td>LG OLED TV</td>\n",
              "      <td>Телевизоры</td>\n",
              "      <td>150</td>\n",
              "      <td>179990</td>\n",
              "      <td>26998500</td>\n",
              "    </tr>\n",
              "    <tr>\n",
              "      <th>4</th>\n",
              "      <td>4005</td>\n",
              "      <td>05.05.2022</td>\n",
              "      <td>Apple MacBook Pro 16</td>\n",
              "      <td>Ноутбуки</td>\n",
              "      <td>100</td>\n",
              "      <td>199990</td>\n",
              "      <td>19999000</td>\n",
              "    </tr>\n",
              "    <tr>\n",
              "      <th>5</th>\n",
              "      <td>4006</td>\n",
              "      <td>06.03.2022</td>\n",
              "      <td>Canon EOS R7</td>\n",
              "      <td>Фотоаппараты</td>\n",
              "      <td>50</td>\n",
              "      <td>249990</td>\n",
              "      <td>12499500</td>\n",
              "    </tr>\n",
              "    <tr>\n",
              "      <th>6</th>\n",
              "      <td>4007</td>\n",
              "      <td>07.06.2022</td>\n",
              "      <td>Bose QuietComfort 55</td>\n",
              "      <td>Наушники</td>\n",
              "      <td>100</td>\n",
              "      <td>34990</td>\n",
              "      <td>3499000</td>\n",
              "    </tr>\n",
              "    <tr>\n",
              "      <th>7</th>\n",
              "      <td>4008</td>\n",
              "      <td>08.05.2022</td>\n",
              "      <td>Samsung Galaxy Tab S8</td>\n",
              "      <td>Планшеты</td>\n",
              "      <td>75</td>\n",
              "      <td>69990</td>\n",
              "      <td>5249250</td>\n",
              "    </tr>\n",
              "    <tr>\n",
              "      <th>8</th>\n",
              "      <td>4009</td>\n",
              "      <td>09.04.2022</td>\n",
              "      <td>DJI Mavic 3</td>\n",
              "      <td>Дроны</td>\n",
              "      <td>25</td>\n",
              "      <td>149990</td>\n",
              "      <td>3749750</td>\n",
              "    </tr>\n",
              "    <tr>\n",
              "      <th>9</th>\n",
              "      <td>4010</td>\n",
              "      <td>10.02.2022</td>\n",
              "      <td>Philips Hue Smart Bulbs</td>\n",
              "      <td>Умный дом</td>\n",
              "      <td>500</td>\n",
              "      <td>2990</td>\n",
              "      <td>1495000</td>\n",
              "    </tr>\n",
              "    <tr>\n",
              "      <th>10</th>\n",
              "      <td>5001</td>\n",
              "      <td>01.01.2022</td>\n",
              "      <td>Apple iPad Pro 12.9</td>\n",
              "      <td>Планшеты</td>\n",
              "      <td>200</td>\n",
              "      <td>89990</td>\n",
              "      <td>17998000</td>\n",
              "    </tr>\n",
              "    <tr>\n",
              "      <th>11</th>\n",
              "      <td>5002</td>\n",
              "      <td>02.02.2022</td>\n",
              "      <td>Sony PlayStation 5 Pro</td>\n",
              "      <td>Игровые приставки</td>\n",
              "      <td>100</td>\n",
              "      <td>59990</td>\n",
              "      <td>5999000</td>\n",
              "    </tr>\n",
              "    <tr>\n",
              "      <th>12</th>\n",
              "      <td>5003</td>\n",
              "      <td>03.10.2022</td>\n",
              "      <td>Samsung Galaxy Watch 5</td>\n",
              "      <td>Умные часы</td>\n",
              "      <td>150</td>\n",
              "      <td>29990</td>\n",
              "      <td>4498500</td>\n",
              "    </tr>\n",
              "    <tr>\n",
              "      <th>13</th>\n",
              "      <td>5004</td>\n",
              "      <td>04.11.2022</td>\n",
              "      <td>LG UltraFine</td>\n",
              "      <td>Мониторы</td>\n",
              "      <td>50</td>\n",
              "      <td>99990</td>\n",
              "      <td>4999500</td>\n",
              "    </tr>\n",
              "    <tr>\n",
              "      <th>14</th>\n",
              "      <td>5005</td>\n",
              "      <td>05.12.2022</td>\n",
              "      <td>Canon EOS R8</td>\n",
              "      <td>Фотоаппараты</td>\n",
              "      <td>75</td>\n",
              "      <td>299990</td>\n",
              "      <td>22499250</td>\n",
              "    </tr>\n",
              "    <tr>\n",
              "      <th>15</th>\n",
              "      <td>5006</td>\n",
              "      <td>06.10.2021</td>\n",
              "      <td>Bose SoundLink Revolve+</td>\n",
              "      <td>Портативные колонки</td>\n",
              "      <td>100</td>\n",
              "      <td>24990</td>\n",
              "      <td>2499000</td>\n",
              "    </tr>\n",
              "    <tr>\n",
              "      <th>16</th>\n",
              "      <td>5007</td>\n",
              "      <td>07.09.2022</td>\n",
              "      <td>DJI Ronin 4D</td>\n",
              "      <td>Стабилизаторы</td>\n",
              "      <td>25</td>\n",
              "      <td>499990</td>\n",
              "      <td>12499750</td>\n",
              "    </tr>\n",
              "    <tr>\n",
              "      <th>17</th>\n",
              "      <td>5008</td>\n",
              "      <td>08.07.2021</td>\n",
              "      <td>Samsung Galaxy Book Pro</td>\n",
              "      <td>Ноутбуки</td>\n",
              "      <td>50</td>\n",
              "      <td>129990</td>\n",
              "      <td>6499500</td>\n",
              "    </tr>\n",
              "    <tr>\n",
              "      <th>18</th>\n",
              "      <td>5009</td>\n",
              "      <td>09.07.2022</td>\n",
              "      <td>Philips Sonicare DiamondClean</td>\n",
              "      <td>Электрические зубные щетки</td>\n",
              "      <td>200</td>\n",
              "      <td>9990</td>\n",
              "      <td>1998000</td>\n",
              "    </tr>\n",
              "    <tr>\n",
              "      <th>19</th>\n",
              "      <td>5010</td>\n",
              "      <td>10.02.2001</td>\n",
              "      <td>Nest Learning Thermostat</td>\n",
              "      <td>Умный дом</td>\n",
              "      <td>100</td>\n",
              "      <td>19990</td>\n",
              "      <td>1999000</td>\n",
              "    </tr>\n",
              "  </tbody>\n",
              "</table>\n",
              "</div>"
            ],
            "text/plain": [
              "    Номер заказа Дата заказа                Название товара  \\\n",
              "0           4001  01.02.2022                Apple iPhone 14   \n",
              "1           4002  02.04.2022       Samsung Galaxy S22 Ultra   \n",
              "2           4003  03.01.2022              Игровые приставки   \n",
              "3           4004  04.02.2022                     LG OLED TV   \n",
              "4           4005  05.05.2022           Apple MacBook Pro 16   \n",
              "5           4006  06.03.2022                   Canon EOS R7   \n",
              "6           4007  07.06.2022           Bose QuietComfort 55   \n",
              "7           4008  08.05.2022          Samsung Galaxy Tab S8   \n",
              "8           4009  09.04.2022                    DJI Mavic 3   \n",
              "9           4010  10.02.2022        Philips Hue Smart Bulbs   \n",
              "10          5001  01.01.2022            Apple iPad Pro 12.9   \n",
              "11          5002  02.02.2022         Sony PlayStation 5 Pro   \n",
              "12          5003  03.10.2022         Samsung Galaxy Watch 5   \n",
              "13          5004  04.11.2022                   LG UltraFine   \n",
              "14          5005  05.12.2022                   Canon EOS R8   \n",
              "15          5006  06.10.2021        Bose SoundLink Revolve+   \n",
              "16          5007  07.09.2022                   DJI Ronin 4D   \n",
              "17          5008  08.07.2021        Samsung Galaxy Book Pro   \n",
              "18          5009  09.07.2022  Philips Sonicare DiamondClean   \n",
              "19          5010  10.02.2001       Nest Learning Thermostat   \n",
              "\n",
              "              Категория товара  Количество продаж  Цена за единицу  \\\n",
              "0                    Смартфоны                500            89990   \n",
              "1                    Смартфоны                300            99990   \n",
              "2            Игровые приставки                200            59990   \n",
              "3                   Телевизоры                150           179990   \n",
              "4                     Ноутбуки                100           199990   \n",
              "5                 Фотоаппараты                 50           249990   \n",
              "6                     Наушники                100            34990   \n",
              "7                     Планшеты                 75            69990   \n",
              "8                        Дроны                 25           149990   \n",
              "9                    Умный дом                500             2990   \n",
              "10                    Планшеты                200            89990   \n",
              "11           Игровые приставки                100            59990   \n",
              "12                  Умные часы                150            29990   \n",
              "13                    Мониторы                 50            99990   \n",
              "14                Фотоаппараты                 75           299990   \n",
              "15         Портативные колонки                100            24990   \n",
              "16               Стабилизаторы                 25           499990   \n",
              "17                    Ноутбуки                 50           129990   \n",
              "18  Электрические зубные щетки                200             9990   \n",
              "19                   Умный дом                100            19990   \n",
              "\n",
              "    Общая стоимость  \n",
              "0          44995000  \n",
              "1          29997000  \n",
              "2          11998000  \n",
              "3          26998500  \n",
              "4          19999000  \n",
              "5          12499500  \n",
              "6           3499000  \n",
              "7           5249250  \n",
              "8           3749750  \n",
              "9           1495000  \n",
              "10         17998000  \n",
              "11          5999000  \n",
              "12          4498500  \n",
              "13          4999500  \n",
              "14         22499250  \n",
              "15          2499000  \n",
              "16         12499750  \n",
              "17          6499500  \n",
              "18          1998000  \n",
              "19          1999000  "
            ]
          },
          "execution_count": 4,
          "metadata": {},
          "output_type": "execute_result"
        }
      ],
      "source": [
        "table = pd.read_csv(\"table.csv\")\n",
        "table"
      ]
    },
    {
      "cell_type": "code",
      "execution_count": 2,
      "metadata": {},
      "outputs": [],
      "source": [
        "table = {}\n",
        "\n",
        "with open(\"table.csv\", 'r') as file:\n",
        "    titles = file.readline().strip().split(\",\")\n",
        "    for i in titles:\n",
        "        table[i] = []\n",
        "    row = []\n",
        "    for line in file:\n",
        "        row = line.strip().split(\",\")\n",
        "        for i in range(len(titles)):\n",
        "            c = row[i]\n",
        "            if c.isdigit():\n",
        "                c = int(c)\n",
        "            table[titles[i]].append(c)"
      ]
    },
    {
      "attachments": {},
      "cell_type": "markdown",
      "metadata": {},
      "source": [
        "#### Реализация: "
      ]
    },
    {
      "cell_type": "code",
      "execution_count": 8,
      "metadata": {},
      "outputs": [],
      "source": [
        "def exchange_sort(lst):\n",
        "    # Флаг для остановки цикла. Сразу при запуске становится False, и, если\n",
        "    # переставлять больше нечего, то цикл прекратится.\n",
        "    drug = True\n",
        "    while drug:\n",
        "        drug = False\n",
        "\n",
        "        # Пробегаемся по элементам строки матрицы.\n",
        "        for i in range(len(lst) - 1):\n",
        "\n",
        "            # Меняем местами, если они стоят неправильно.\n",
        "            if lst[i] > lst[i+1]:\n",
        "                lst[i], lst[i+1] = lst[i+1], lst[i]\n",
        "                drug = True"
      ]
    },
    {
      "attachments": {},
      "cell_type": "markdown",
      "metadata": {},
      "source": [
        "##### Задание 1"
      ]
    },
    {
      "cell_type": "code",
      "execution_count": 14,
      "metadata": {},
      "outputs": [
        {
          "name": "stdout",
          "output_type": "stream",
          "text": [
            "Общая выручка составляет 241969500.\n"
          ]
        }
      ],
      "source": [
        "def total_revenue(table: dict, column: str):\n",
        "    total_revenue = 0\n",
        "    for revenue in table[column]:\n",
        "        total_revenue += int(revenue)\n",
        "\n",
        "    return total_revenue\n",
        "\n",
        "ttl_rvne = total_revenue(table, \"Общая стоимость\")\n",
        "print(f\"Общая выручка составляет {ttl_rvne}.\")"
      ]
    },
    {
      "attachments": {},
      "cell_type": "markdown",
      "metadata": {},
      "source": [
        "##### Задание 2"
      ]
    },
    {
      "cell_type": "code",
      "execution_count": 15,
      "metadata": {},
      "outputs": [
        {
          "name": "stdout",
          "output_type": "stream",
          "text": [
            "Больше всего продано Apple iPhone 14 в количестве 500.\n"
          ]
        }
      ],
      "source": [
        "def max_value(table: dict, column: str):\n",
        "    temp_list = copy.deepcopy(table[column])\n",
        "    exchange_sort(temp_list)\n",
        "    max_value = temp_list[-1]\n",
        "\n",
        "    for i, v in enumerate(table[column]):\n",
        "        if v == max_value:\n",
        "            break\n",
        "\n",
        "    title = table[\"Название товара\"][i]\n",
        "    return [title, max_value]\n",
        " \n",
        "max_sell = max_value(table, \"Количество продаж\")\n",
        "print(f\"Больше всего продано {max_sell[0]} в количестве {max_sell[-1]}.\")"
      ]
    },
    {
      "attachments": {},
      "cell_type": "markdown",
      "metadata": {},
      "source": [
        "##### Задание 3"
      ]
    },
    {
      "cell_type": "code",
      "execution_count": 16,
      "metadata": {},
      "outputs": [
        {
          "name": "stdout",
          "output_type": "stream",
          "text": [
            "Больше всего продано Apple iPhone 14 в количестве 44995000.\n"
          ]
        }
      ],
      "source": [
        "max_revenue = max_value(table, \"Общая стоимость\")\n",
        "print(f\"Больше всего продано {max_revenue[0]} в количестве {max_revenue[-1]}.\")"
      ]
    },
    {
      "attachments": {},
      "cell_type": "markdown",
      "metadata": {},
      "source": [
        "##### Задание 4"
      ]
    },
    {
      "cell_type": "code",
      "execution_count": 129,
      "metadata": {},
      "outputs": [
        {
          "name": "stdout",
          "output_type": "stream",
          "text": [
            "Общая выручка составляет 241969500\n",
            "\n",
            "                  Название товара  Количество продаж  Доля от общей выручки\n",
            "0                 Apple iPhone 14                500                   0.19\n",
            "1        Samsung Galaxy S22 Ultra                300                   0.12\n",
            "2               Игровые приставки                200                   0.05\n",
            "3                      LG OLED TV                150                   0.11\n",
            "4            Apple MacBook Pro 16                100                   0.08\n",
            "5                    Canon EOS R7                 50                   0.05\n",
            "6            Bose QuietComfort 55                100                   0.01\n",
            "7           Samsung Galaxy Tab S8                 75                   0.02\n",
            "8                     DJI Mavic 3                 25                   0.02\n",
            "9         Philips Hue Smart Bulbs                500                   0.01\n",
            "10            Apple iPad Pro 12.9                200                   0.07\n",
            "11         Sony PlayStation 5 Pro                100                   0.02\n",
            "12         Samsung Galaxy Watch 5                150                   0.02\n",
            "13                   LG UltraFine                 50                   0.02\n",
            "14                   Canon EOS R8                 75                   0.09\n",
            "15        Bose SoundLink Revolve+                100                   0.01\n",
            "16                   DJI Ronin 4D                 25                   0.05\n",
            "17        Samsung Galaxy Book Pro                 50                   0.03\n",
            "18  Philips Sonicare DiamondClean                200                   0.01\n",
            "19       Nest Learning Thermostat                100                   0.01\n"
          ]
        }
      ],
      "source": [
        "print(f\"Общая выручка составляет {total_revenue}\")\n",
        "print()\n",
        "percentage = []\n",
        "for i in table[\"Общая стоимость\"]:\n",
        "    percentage.append(round(i/total_revenue, 2))\n",
        "data = {\n",
        "    \"Название товара\" : table[\"Название товара\"],\n",
        "    \"Количество продаж\" : table[\"Количество продаж\"],\n",
        "    \"Доля от общей выручки\" : percentage\n",
        "}\n",
        "\n",
        "df = pd.DataFrame(data)\n",
        "print(df)"
      ]
    },
    {
      "cell_type": "code",
      "execution_count": 128,
      "metadata": {},
      "outputs": [
        {
          "name": "stdout",
          "output_type": "stream",
          "text": [
            "Общая выручка составляет 241969500\n",
            "\n",
            "Apple iPhone 14\t500\t0.19\n",
            "Samsung Galaxy S22 Ultra\t300\t0.12\n",
            "Игровые приставки\t200\t0.05\n",
            "LG OLED TV\t150\t0.11\n",
            "Apple MacBook Pro 16\t100\t0.08\n",
            "Canon EOS R7\t50\t0.05\n",
            "Bose QuietComfort 55\t100\t0.01\n",
            "Samsung Galaxy Tab S8\t75\t0.02\n",
            "DJI Mavic 3\t25\t0.02\n",
            "Philips Hue Smart Bulbs\t500\t0.01\n",
            "Apple iPad Pro 12.9\t200\t0.07\n",
            "Sony PlayStation 5 Pro\t100\t0.02\n",
            "Samsung Galaxy Watch 5\t150\t0.02\n",
            "LG UltraFine\t50\t0.02\n",
            "Canon EOS R8\t75\t0.09\n",
            "Bose SoundLink Revolve+\t100\t0.01\n",
            "DJI Ronin 4D\t25\t0.05\n",
            "Samsung Galaxy Book Pro\t50\t0.03\n",
            "Philips Sonicare DiamondClean\t200\t0.01\n",
            "Nest Learning Thermostat\t100\t0.01\n"
          ]
        }
      ],
      "source": [
        "print(f\"Общая выручка составляет {total_revenue}\")\n",
        "print()\n",
        "for i in range(len(table[\"Общая стоимость\"])):\n",
        "    title = table[\"Название товара\"][i]\n",
        "    count = table[\"Количество продаж\"][i]\n",
        "    revenue = table[\"Общая стоимость\"][i]\n",
        "    print(f\"{title}\\t{count}\\t{round(revenue/total_revenue, 2)}\")"
      ]
    }
  ],
  "metadata": {
    "colab": {
      "provenance": []
    },
    "kernelspec": {
      "display_name": "base",
      "language": "python",
      "name": "python3"
    },
    "language_info": {
      "codemirror_mode": {
        "name": "ipython",
        "version": 3
      },
      "file_extension": ".py",
      "mimetype": "text/x-python",
      "name": "python",
      "nbconvert_exporter": "python",
      "pygments_lexer": "ipython3",
      "version": "3.9.13"
    },
    "vscode": {
      "interpreter": {
        "hash": "b09ec625f77bf4fd762565a912b97636504ad6ec901eb2d0f4cf5a7de23e1ee5"
      }
    }
  },
  "nbformat": 4,
  "nbformat_minor": 0
}
