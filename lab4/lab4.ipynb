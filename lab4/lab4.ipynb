{
  "cells": [
    {
      "attachments": {},
      "cell_type": "markdown",
      "metadata": {
        "id": "0z3KlfKDn4_K"
      },
      "source": [
        "# Лабораторная работа 4. \n",
        "# Методы поиска.\n"
      ]
    },
    {
      "attachments": {},
      "cell_type": "markdown",
      "metadata": {
        "id": "96Gi_LEvmSVH"
      },
      "source": [
        "## Выполнил студент группы Самат уулу Максат БВТ2101\n",
        "***"
      ]
    },
    {
      "attachments": {},
      "cell_type": "markdown",
      "metadata": {
        "id": "GjdIp8aToKIe"
      },
      "source": [
        "### Задание\n",
        "\n",
        "1.  Реализовать методы поиска в соответствии с заданием.\n",
        "\n",
        "2.  Организовать генерацию начального набора случайных данных.\n",
        "\n",
        "3.  Для всех вариантов добавить реализацию добавления, поиска и удаления элементов.\n",
        "\n",
        "4. Оценить время работы каждого алгоритма поиска и сравнить его со временем работы стандартной функции поиска, используемой в выбранном языке программирования."
      ]
    },
    {
      "attachments": {},
      "cell_type": "markdown",
      "metadata": {
        "id": "LhhUXrAmotIA"
      },
      "source": [
        "#### Задание №1:\n",
        "\n",
        "Бинарный поиск | Бинарное дерево | Фибоначчиев | Интерполяционный\n",
        "\n",
        "#### Задание №2:\n",
        "\n",
        "Простое рехэширование | Рехэширование с помощью псевдослучайных чисел | Метод цепочек\n",
        "\n",
        "#### Задание №3:\n",
        "\n",
        "Расставить на стандартной 64-клеточной шахматной доске 8 ферзей так, чтобы ни один из них не находился под боем другого. Подразумевается, что ферзь бьёт все клетки, расположенные по вертикалям, горизонталям и обеим диагоналям.\n",
        "Написать программу,  которая находит хотя бы один способ решения задач.\n"
      ]
    },
    {
      "cell_type": "markdown",
      "metadata": {
        "id": "Wggfn8l7nG72"
      },
      "source": [
        "### Выполнение:"
      ]
    },
    {
      "cell_type": "code",
      "execution_count": 1,
      "metadata": {},
      "outputs": [],
      "source": [
        "import copy\n",
        "import time\n",
        "import random\n",
        "\n",
        "import pandas as pd"
      ]
    },
    {
      "attachments": {},
      "cell_type": "markdown",
      "metadata": {},
      "source": [
        "#### Входные данные: "
      ]
    },
    {
      "cell_type": "code",
      "execution_count": 2,
      "metadata": {},
      "outputs": [
        {
          "name": "stdout",
          "output_type": "stream",
          "text": [
            "[-49, -34, -31, -28, -18, -16, -13, -10, -9, -7, 1, 3, 9, 11, 19, 28, 33, 34, 37, 45]\n"
          ]
        }
      ],
      "source": [
        "def generate_list(start, end, length, sorted=False):\n",
        "    array = [random.randint(start, end) for x in range(length)]\n",
        "    if sorted:\n",
        "        array.sort()\n",
        "    return array\n",
        "\n",
        "array = generate_list(-50, 50, 20, sorted=True)\n",
        "print(array)"
      ]
    },
    {
      "cell_type": "code",
      "execution_count": 3,
      "metadata": {},
      "outputs": [],
      "source": [
        "def start_program(algorithm):\n",
        "    print(\"1. Найти значение в массиве.\")\n",
        "    print(\"2. Добавить значение в массив.\")\n",
        "    print(\"3. Удалить значение из массива.\")\n",
        "    print(\"4. Выйти из программы.\")\n",
        "\n",
        "    while True:\n",
        "        i = int(input())\n",
        "        if i == 1:\n",
        "            target = int(input(\"Введите значение, которое необходимо найти: \"))\n",
        "            result = algorithm(array, target)\n",
        "            if result != None:\n",
        "                print(f\"Значение {target} найден на индексе {result}.\")\n",
        "            else:\n",
        "                print(f\"Значение {target} не найден в списке.\")\n",
        "        elif i == 2:\n",
        "            target = int(input(\"Введите значение, которое необходимо добавить: \"))\n",
        "            array.append(target)\n",
        "            print(f\"Значение {target} успешно добавлено.\")\n",
        "            array.sort()\n",
        "        elif i == 3:\n",
        "            target = int(input(\"Введите значение, которое необходимо удалить: \"))\n",
        "            if target in array:\n",
        "                array.remove(target)\n",
        "                print(f\"Значение {target} успешно удалёно.\")\n",
        "            else:\n",
        "                print(\"Такого значения не существует в массиве!\")\n",
        "        elif i == 4:\n",
        "            break"
      ]
    },
    {
      "attachments": {},
      "cell_type": "markdown",
      "metadata": {},
      "source": [
        "#### Задание №1:\n",
        "***"
      ]
    },
    {
      "attachments": {},
      "cell_type": "markdown",
      "metadata": {},
      "source": [
        "##### Встроенный поиск в Python"
      ]
    },
    {
      "cell_type": "code",
      "execution_count": 172,
      "metadata": {},
      "outputs": [],
      "source": [
        "def python_search(array, target):\n",
        "    if target in array:\n",
        "        return array.index(target)\n",
        "    else: return None"
      ]
    },
    {
      "attachments": {},
      "cell_type": "markdown",
      "metadata": {},
      "source": [
        "##### Бинарный поиск"
      ]
    },
    {
      "cell_type": "code",
      "execution_count": 4,
      "metadata": {
        "id": "681a95mZnOSa"
      },
      "outputs": [],
      "source": [
        "def binary_search(array, target):\n",
        "    \n",
        "    # Количество элементов в массиве\n",
        "    n = len(array)\n",
        "    # Левый и правый конец массива\n",
        "    left, right = 0, n-1\n",
        "\n",
        "    # Пока левый конец меньше правого \n",
        "    # продалжаем искать заданное значение.\n",
        "    while left <= right:\n",
        "        # Середина массива.\n",
        "        middle = (left + right) // 2\n",
        "\n",
        "        # Если заданное значение больше середины,\n",
        "        # то смещаем левый конец\n",
        "        if array[middle] < target:\n",
        "            left = middle + 1\n",
        "\n",
        "        # Если заданное значение меньше середины,\n",
        "        # то смещаем правый конец\n",
        "        elif array[middle] > target:\n",
        "            right = middle - 1\n",
        "\n",
        "        # Если заданное значение совпадает \n",
        "        # с серединой, то возвращаем его\n",
        "        else:\n",
        "            return middle\n",
        "\n",
        "    # Если заданное значение не найдено\n",
        "    # в массиве, то говоорим об этом\n",
        "    return None\n",
        "\n",
        "#print(f\"target = {t}\\nindex = {binary_search(a, t)}\")"
      ]
    },
    {
      "cell_type": "code",
      "execution_count": 73,
      "metadata": {},
      "outputs": [
        {
          "name": "stdout",
          "output_type": "stream",
          "text": [
            "1. Найти значение в массиве.\n",
            "2. Добавить значение в массив.\n",
            "3. Удалить значение из массива.\n",
            "4. Выйти из программы.\n"
          ]
        }
      ],
      "source": [
        "start_program(binary_search)"
      ]
    },
    {
      "attachments": {},
      "cell_type": "markdown",
      "metadata": {},
      "source": [
        "##### Бинарное дерево"
      ]
    },
    {
      "cell_type": "code",
      "execution_count": 5,
      "metadata": {},
      "outputs": [],
      "source": [
        "class TreeNode:\n",
        "\n",
        "\n",
        "    def __init__(self,key,val,\n",
        "                 left=None,\n",
        "                 right=None,\n",
        "                 parent=None):\n",
        "        self.key = key\n",
        "        self.payload = val\n",
        "        self.leftChild = left\n",
        "        self.rightChild = right\n",
        "        self.parent = parent\n",
        "\n",
        "\n",
        "    def hasLeftChild(self):\n",
        "        return self.leftChild\n",
        "\n",
        "\n",
        "    def hasRightChild(self):\n",
        "        return self.rightChild\n",
        "\n",
        "\n",
        "    def isLeftChild(self):\n",
        "        return self.parent and self.parent.leftChild == self\n",
        "\n",
        "\n",
        "    def isRightChild(self):\n",
        "        return self.parent and self.parent.rightChild == self\n",
        "\n",
        "\n",
        "    def isRoot(self):\n",
        "        return not self.parent\n",
        "\n",
        "\n",
        "    def isLeaf(self):\n",
        "        return not (self.rightChild or self.leftChild)\n",
        "\n",
        "\n",
        "    def hasAnyChildren(self):\n",
        "        return self.rightChild or self.leftChild\n",
        "\n",
        "\n",
        "    def hasBothChildren(self):\n",
        "        return self.rightChild and self.leftChild\n",
        "\n",
        "\n",
        "    def replaceNodeData(self,key,value,lc,rc):\n",
        "        self.key = key\n",
        "        self.payload = value\n",
        "        self.leftChild = lc\n",
        "        self.rightChild = rc\n",
        "        if self.hasLeftChild():\n",
        "            self.leftChild.parent = self\n",
        "        if self.hasRightChild():\n",
        "            self.rightChild.parent = self"
      ]
    },
    {
      "cell_type": "code",
      "execution_count": 6,
      "metadata": {},
      "outputs": [],
      "source": [
        "class BinarySearchTree:\n",
        "\n",
        "    def __init__(self):\n",
        "        self.root = None\n",
        "        self.size = 0\n",
        "\n",
        "    def length(self):\n",
        "        return self.size\n",
        "\n",
        "    # Перегрузка встроенной функции len().\n",
        "    def __len__(self):\n",
        "        return self.size\n",
        "\n",
        "    # Если нет корня => создаём его.\n",
        "    # Если он есть => вызвываем приватную\n",
        "    # рекурсивную вспомогательную функцию.\n",
        "    def put(self, key, val):\n",
        "        if self.root:\n",
        "            self._put(key, val, self.root)\n",
        "        else:\n",
        "            self.root = TreeNode(key, val)\n",
        "        self.size = self.size + 1\n",
        "\n",
        "    # Приватная рекурсивная вспомогательная функцию.\n",
        "    # Ищет листовой узел, чтобы устнаовить туда новый\n",
        "    # узел левым или правым потомком.\n",
        "    def _put(self, key, val, currentNode):\n",
        "        if key < currentNode.key:\n",
        "            if currentNode.hasLeftChild():\n",
        "                self._put(key, val, currentNode.leftChild)\n",
        "            else:\n",
        "                currentNode.leftChild = TreeNode(key, val, parent=currentNode)\n",
        "        elif key > currentNode.key:\n",
        "            if currentNode.hasRightChild():\n",
        "                self._put(key, val, currentNode.rightChild)\n",
        "            else:\n",
        "                currentNode.rightChild = TreeNode(key, val, parent=currentNode)\n",
        "        else:\n",
        "            currentNode.replaceNodeData(key, val, currentNode.leftChild, currentNode.rightChild)\n",
        "\n",
        "    # Перегрузка оператора []\n",
        "    def __setitem__(self, k, v):\n",
        "        self.put(k, v)\n",
        "\n",
        "    # Если нет корня => возвращаем ничего.\n",
        "    # Если он есть => вызвываем приватную\n",
        "    # рекурсивную вспомогательную функцию.\n",
        "    def get(self, key):\n",
        "        if self.root:\n",
        "            res = self._get(key, self.root)\n",
        "            if res:\n",
        "                return res.payload\n",
        "            else:\n",
        "                return None\n",
        "        else:\n",
        "            return None\n",
        "\n",
        "    # Приватная рекурсивная вспомогательная функцию.\n",
        "    # Ищет конкретный узелдо тех пор, пока не найдём\n",
        "    # или не наткнемся на листовой узел.\n",
        "    def _get(self, key, currentNode):\n",
        "        if not currentNode:\n",
        "            return None\n",
        "        elif currentNode.key == key:\n",
        "            return currentNode\n",
        "        elif key < currentNode.key:\n",
        "            return self._get(key, currentNode.leftChild)\n",
        "        else:\n",
        "            return self._get(key, currentNode.rightChild)\n",
        "\n",
        "    # Реализация обращения по индексу (massiv[key])\n",
        "    def __getitem__(self, key):\n",
        "        return self.get(key)\n",
        "\n",
        "    # Перегрузка оператора in.\n",
        "    def __contains__(self, key):\n",
        "        if self._get(key, self.root):\n",
        "            return True\n",
        "        else:\n",
        "            return False\n",
        "\n",
        "    # Если дерево пустое => ошибка. Если в дереве\n",
        "    # только корневой узел => гасим его. Если есть\n",
        "    # потомки корневого узла, то ищем необохдимый узел,\n",
        "    # пока не найдем или не наткнёмся на листовой узел.\n",
        "    def delete(self, key):\n",
        "        if self.size > 1:\n",
        "            nodeToRemove = self._get(key, self.root)\n",
        "            if nodeToRemove:\n",
        "                self.remove(nodeToRemove)\n",
        "                self.size = self.size-1\n",
        "            else:\n",
        "                raise KeyError('Ошибка, данного ключа нет в дереве!')\n",
        "        elif self.size == 1 and self.root.key == key:\n",
        "            self.root = None\n",
        "            self.size = self.size - 1\n",
        "        else:\n",
        "            raise KeyError('Ошибка, данного ключа нет в дереве!')\n",
        "\n",
        "    # Перегрузка оператора del.\n",
        "    def __delitem__(self, key):\n",
        "        self.delete(key)\n",
        "\n",
        "    # Функция правильно заменяет узел на преемника.\n",
        "    def spliceOut(self):\n",
        "\n",
        "        # Если узел листовой, то просто удаляем\n",
        "        # его в зависимости от положения.\n",
        "        if self.isLeaf():\n",
        "            if self.isLeftChild():\n",
        "                self.parent.leftChild = None\n",
        "            else:\n",
        "                self.parent.rightChild = None\n",
        "        \n",
        "        # Если у узла есть потомки, то производим те же \n",
        "        # махинации, что и при замене узла с одним потомком.\n",
        "        elif self.hasAnyChildren():\n",
        "            if self.hasLeftChild():\n",
        "                if self.isLeftChild():\n",
        "                    self.parent.leftChild = self.leftChild\n",
        "                else:\n",
        "                    self.parent.rightChild = self.leftChild\n",
        "                self.leftChild.parent = self.parent\n",
        "            else:\n",
        "                if self.isLeftChild():\n",
        "                    self.parent.leftChild = self.rightChild\n",
        "                else:\n",
        "                    self.parent.rightChild = self.rightChild\n",
        "                self.rightChild.parent = self.parent\n",
        "\n",
        "    # Если у узла есть правый потомок, то преемник - наименьший \n",
        "    # ключ в правом поддереве. Если у узла нет правого потомка и\n",
        "    # сам он - левый потомок родителя, то преемником будет родитель. \n",
        "    # Если узел - правый потомок своего родителя и сам правого \n",
        "    # потомка не имеет, то его преемником будет преемник \n",
        "    # родителя (исключая сам этот узел).\n",
        "    def findSuccessor(self):\n",
        "        succ = None\n",
        "        if self.hasRightChild():\n",
        "            succ = self.rightChild.findMin()\n",
        "        else:\n",
        "            if self.parent:\n",
        "                if self.isLeftChild():\n",
        "                    succ = self.parent\n",
        "                else:\n",
        "                    self.parent.rightChild = None\n",
        "                    succ = self.parent.findSuccessor()\n",
        "                    self.parent.rightChild = self\n",
        "        return succ\n",
        "\n",
        "    # Ищет минимальный узел в поддереве.\n",
        "    def findMin(self):\n",
        "        current = self\n",
        "        while current.hasLeftChild():\n",
        "            current = current.leftChild\n",
        "        return current\n",
        "\n",
        "    # Функция для гашения узла.\n",
        "    def remove(self, currentNode):\n",
        "\n",
        "        # Если узел листовой => гасим его в зависимости от его положения.\n",
        "        if currentNode.isLeaf():\n",
        "            if currentNode == currentNode.parent.leftChild:\n",
        "                currentNode.parent.leftChild = None\n",
        "            else:\n",
        "                currentNode.parent.rightChild = None\n",
        "\n",
        "        # Если у узла два потомка, то ищем преемника.\n",
        "        elif currentNode.hasBothChildren():\n",
        "            succ = currentNode.findSuccessor()\n",
        "            succ.spliceOut()\n",
        "            currentNode.key = succ.key\n",
        "            currentNode.payload = succ.payload\n",
        "\n",
        "        # Если текущий узел - левый/правый потомок => обновляем \n",
        "        # родительскую ссылку на него (этот узел) у узла-предка \n",
        "        # и ссылку его потомка, чтобы она указывала на нового родителя.\n",
        "        # Если текущий узел предка не имеет, вызываем метод replaceNodeData.\n",
        "        else:\n",
        "            if currentNode.hasLeftChild():\n",
        "                if currentNode.isLeftChild():\n",
        "                    currentNode.leftChild.parent = currentNode.parent\n",
        "                    currentNode.parent.leftChild = currentNode.leftChild\n",
        "                elif currentNode.isRightChild():\n",
        "                    currentNode.leftChild.parent = currentNode.parent\n",
        "                    currentNode.parent.rightChild = currentNode.leftChild\n",
        "                else:\n",
        "                    currentNode.replaceNodeData(currentNode.leftChild.key,\n",
        "                                                currentNode.leftChild.payload,\n",
        "                                                currentNode.leftChild.leftChild,\n",
        "                                                currentNode.leftChild.rightChild)\n",
        "            else:\n",
        "                if currentNode.isLeftChild():\n",
        "                    currentNode.rightChild.parent = currentNode.parent\n",
        "                    currentNode.parent.leftChild = currentNode.rightChild\n",
        "                elif currentNode.isRightChild():\n",
        "                    currentNode.rightChild.parent = currentNode.parent\n",
        "                    currentNode.parent.rightChild = currentNode.rightChild\n",
        "                else:\n",
        "                    currentNode.replaceNodeData(currentNode.rightChild.key,\n",
        "                                                currentNode.rightChild.payload,\n",
        "                                                currentNode.rightChild.leftChild,\n",
        "                                                currentNode.rightChild.rightChild)\n"
      ]
    },
    {
      "cell_type": "code",
      "execution_count": 56,
      "metadata": {},
      "outputs": [
        {
          "name": "stdout",
          "output_type": "stream",
          "text": [
            "cyan\n",
            "None\n"
          ]
        }
      ],
      "source": [
        "mytree = BinarySearchTree()\n",
        "\n",
        "mytree[3]=\"red\"\n",
        "mytree[4]=\"blue\"\n",
        "mytree[6]=\"yellow\"\n",
        "mytree[6]=\"cyan\"\n",
        "mytree[5]=\"green\"\n",
        "mytree[2]=\"at\"\n",
        "\n",
        "del mytree[2]\n",
        "\n",
        "print(mytree[6])\n",
        "print(mytree[2])"
      ]
    },
    {
      "cell_type": "code",
      "execution_count": 63,
      "metadata": {},
      "outputs": [
        {
          "name": "stdout",
          "output_type": "stream",
          "text": [
            "[-17, 16, 37, -25, 27, 1, 33, -16, -7, 38, -8, -12, 4, -7, 28, 44, -16, 40, -42, -28]\n"
          ]
        }
      ],
      "source": [
        "new_array = generate_list(-50, 50, 20)\n",
        "print(new_array)"
      ]
    },
    {
      "cell_type": "code",
      "execution_count": 64,
      "metadata": {},
      "outputs": [
        {
          "name": "stdout",
          "output_type": "stream",
          "text": [
            "Node 37\n"
          ]
        }
      ],
      "source": [
        "mytree = BinarySearchTree()\n",
        "\n",
        "for i in new_array:\n",
        "    mytree[i] = f\"Node {i}\"\n",
        "\n",
        "print(mytree[37])"
      ]
    },
    {
      "attachments": {},
      "cell_type": "markdown",
      "metadata": {},
      "source": [
        "##### Фибоначчиев"
      ]
    },
    {
      "cell_type": "code",
      "execution_count": 7,
      "metadata": {},
      "outputs": [],
      "source": [
        "def fibonacci_search(array, target):\n",
        "\n",
        "    # Определяем числа Фибоначчи.\n",
        "    fib1, fib2 = 0, 1\n",
        "    fib_sum = fib1 + fib2\n",
        "    while fib_sum < len(array):\n",
        "        fib1 = fib2\n",
        "        fib2 = fib_sum\n",
        "        fib_sum = fib1 + fib2\n",
        "\n",
        "    # Инициализируем границы для поиска элемента.\n",
        "    offset = -1\n",
        "    while fib_sum > 1:\n",
        "        i = min(offset + fib1, len(array) - 1)\n",
        "        if array[i] < target:\n",
        "            fib_sum = fib2\n",
        "            fib2 = fib1\n",
        "            fib1 = fib_sum - fib2\n",
        "            offset = i\n",
        "        elif array[i] > target:\n",
        "            fib_sum = fib1\n",
        "            fib2 = fib2 - fib1\n",
        "            fib1 = fib_sum - fib2\n",
        "        else:\n",
        "            return i\n",
        "    if fib2 == 1 and array[offset+1] == target:\n",
        "        return offset + 1\n",
        "    return None"
      ]
    },
    {
      "cell_type": "code",
      "execution_count": 75,
      "metadata": {},
      "outputs": [
        {
          "name": "stdout",
          "output_type": "stream",
          "text": [
            "1. Найти значение в массиве.\n",
            "2. Добавить значение в массив.\n",
            "3. Удалить значение из массива.\n",
            "4. Выйти из программы.\n",
            "Значение -49 найден на индексе 2.\n"
          ]
        }
      ],
      "source": [
        "start_program(fibonacci_search)"
      ]
    },
    {
      "attachments": {},
      "cell_type": "markdown",
      "metadata": {},
      "source": [
        "##### Интерполяционный"
      ]
    },
    {
      "cell_type": "code",
      "execution_count": 8,
      "metadata": {},
      "outputs": [],
      "source": [
        "def interpolation_search(array, target):\n",
        "    # Нижняя граница для поиска устанавливается на первый элемент массива\n",
        "    low = 0 \n",
        "    # Верхняя граница для поиска устанавливается на последний элемент массива\n",
        "    high = len(array) - 1 \n",
        "    # Пока искомый элемент находится в интервале между нижней и верхней границами\n",
        "    while low <= high and target >= array[low] and target <= array[high]: \n",
        "        # Определяем приблизительную позицию искомого элемента с помощью интерполяции\n",
        "        pos = low + ((target - array[low]) * (high - low) // (array[high] - array[low])) \n",
        "        # Если элемент на найденной позиции равен искомому элементу, то возвращаем его индекс\n",
        "        if array[pos] == target: \n",
        "            return pos\n",
        "        # Если элемент на найденной позиции меньше искомого, то ищем элемент только в правой половине массива\n",
        "        elif array[pos] < target: \n",
        "            low = pos + 1\n",
        "        # Иначе ищем элемент только в левой половине массива\n",
        "        else: \n",
        "            high = pos - 1\n",
        "    return None"
      ]
    },
    {
      "cell_type": "code",
      "execution_count": 39,
      "metadata": {},
      "outputs": [
        {
          "name": "stdout",
          "output_type": "stream",
          "text": [
            "1. Найти значение в массиве.\n",
            "2. Добавить значение в массив.\n",
            "3. Удалить значение из массива.\n",
            "4. Выйти из программы.\n"
          ]
        }
      ],
      "source": [
        "start_program(interpolation_search)"
      ]
    },
    {
      "attachments": {},
      "cell_type": "markdown",
      "metadata": {},
      "source": [
        "#### Задание №2:\n",
        "***"
      ]
    },
    {
      "attachments": {},
      "cell_type": "markdown",
      "metadata": {},
      "source": [
        "##### Простое рехэширование"
      ]
    },
    {
      "cell_type": "code",
      "execution_count": 68,
      "metadata": {},
      "outputs": [],
      "source": [
        "class HashTableSimple:\n",
        "    def __init__(self, size):\n",
        "        self.size = size\n",
        "        self.slots = [None] * self.size\n",
        "        self.data = [None] * self.size\n",
        "\n",
        "    # Создаем функцию для вставки\n",
        "    # элементов в хэш-таблицу\n",
        "    def put(self, key, data):\n",
        "        hashvalue = self.hashfunction(key, len(self.slots))\n",
        "\n",
        "        if self.slots[hashvalue] == None:\n",
        "            self.slots[hashvalue] = key\n",
        "            self.data[hashvalue] = data\n",
        "        else:\n",
        "            # Заменить значение, если ключи совпали\n",
        "            if self.slots[hashvalue] == key:\n",
        "                self.data[hashvalue] = data\n",
        "            else:\n",
        "                self.rehash_for_baby(key, data, hashvalue)\n",
        "\n",
        "    def rehash_for_baby(self, key, data, hashvalue):\n",
        "        nextslot = self.rehash(hashvalue, len(self.slots))\n",
        "        while self.slots[nextslot] != None and self.slots[nextslot] != key:\n",
        "            nextslot = self.rehash(nextslot, len(self.slots))\n",
        "\n",
        "        if self.slots[nextslot] == None:\n",
        "            self.slots[nextslot] = key\n",
        "            self.data[nextslot] = data\n",
        "        else:\n",
        "            self.data[nextslot] = data            \n",
        "\n",
        "    # Создаем функцию хеширования, которая\n",
        "    # возвращает остаток от деления ключа на size\n",
        "    def hashfunction(self, key, size):\n",
        "        return key % size\n",
        "\n",
        "    def rehash(self, oldhash, size):\n",
        "        return (oldhash + 1) % size\n",
        "\n",
        "    def get(self, key):\n",
        "        startslot = self.hashfunction(key, len(self.slots))\n",
        "\n",
        "        data = None\n",
        "        stop = False\n",
        "        found = False\n",
        "        position = startslot\n",
        "        while self.slots[position] != None and not found and not stop:\n",
        "            if self.slots[position] == key:\n",
        "                found = True\n",
        "                data = self.data[position]\n",
        "            else:\n",
        "                position = self.rehash(position, len(self.slots))\n",
        "                if position == startslot:\n",
        "                    stop = True\n",
        "        return data\n",
        "    \n",
        "    def delete(self, key):\n",
        "        startslot = self.hashfunction(key, len(self.slots))\n",
        "\n",
        "        stop = False\n",
        "        found = False\n",
        "        position = startslot\n",
        "        while self.slots[position] != None and not found and not stop:\n",
        "            if self.slots[position] == key:\n",
        "                found = True\n",
        "                self.slots[position] = None\n",
        "                self.data[position] = None\n",
        "            else:\n",
        "                position = self.rehash(position, len(self.slots))\n",
        "                if position == startslot:\n",
        "                    stop = True\n",
        "        return found\n",
        "\n",
        "    \n",
        "\n",
        "    def __getitem__(self, key):\n",
        "        return self.get(key)\n",
        "\n",
        "    def __setitem__(self, key, data):\n",
        "        self.put(key, data)\n",
        "\n",
        "    # Перегрузка оператора del.\n",
        "    def __delitem__(self, key):\n",
        "        self.delete(key)"
      ]
    },
    {
      "cell_type": "code",
      "execution_count": 78,
      "metadata": {},
      "outputs": [
        {
          "name": "stdout",
          "output_type": "stream",
          "text": [
            "F\n",
            "[10, 1, 6, 16, 26]\n",
            "['C', 'A', 'B', 'D', 'F']\n"
          ]
        }
      ],
      "source": [
        "#print(f\"Hash table overflow! Value {value} wasn't inserted into hash_table!\")\n",
        "n = 5\n",
        "hash_table = HashTableSimple(n)\n",
        "\n",
        "hash_table[1] = \"A\"\n",
        "hash_table[6] = \"B\"\n",
        "hash_table[10] = \"C\"\n",
        "hash_table[16] = \"D\"\n",
        "hash_table[21] = \"E\"\n",
        "\n",
        "del hash_table[21]\n",
        "hash_table[26] = \"F\"\n",
        "\n",
        "print(hash_table[26])\n",
        "print(hash_table.slots)\n",
        "print(hash_table.data)\n"
      ]
    },
    {
      "attachments": {},
      "cell_type": "markdown",
      "metadata": {},
      "source": [
        "##### Рехэширование с помощью псевдослучайных чисел\n"
      ]
    },
    {
      "cell_type": "code",
      "execution_count": 190,
      "metadata": {},
      "outputs": [],
      "source": [
        "class HashTableRandom(HashTableSimple):\n",
        "\n",
        "    def rehash(self, oldhash, size, depth=1):\n",
        "        return (oldhash + self.generator_random(size, depth)) % size\n",
        "    \n",
        "     # Генератор псевдослучайной последовательности\n",
        "    def generator_random(self, size, operations): \n",
        "        r = 1\n",
        "        pi = 0\n",
        "        for i in range(operations):\n",
        "            r *= 5\n",
        "            r %= (4 * size)\n",
        "            pi = int(r / 4)\n",
        "        return pi\n",
        "    \n",
        "    def rehash_for_baby(self, key, data, hashvalue):\n",
        "        i = 2\n",
        "        nextslot = self.rehash(hashvalue, len(self.slots), depth=i)\n",
        "        while self.slots[nextslot] != None and self.slots[nextslot] != key:\n",
        "            nextslot = self.rehash(nextslot, len(self.slots), depth=i)\n",
        "            i += 1\n",
        "\n",
        "        if self.slots[nextslot] == None:\n",
        "            self.slots[nextslot] = key\n",
        "            self.data[nextslot] = data\n",
        "        else:\n",
        "            self.data[nextslot] = data            \n",
        "\n",
        "    def delete(self, key):\n",
        "        startslot = self.hashfunction(key, len(self.slots))\n",
        "\n",
        "        stop = False\n",
        "        found = False\n",
        "        position = startslot\n",
        "        i = 2\n",
        "\n",
        "        while self.slots[position] != None and not found and not stop:\n",
        "            if self.slots[position] == key:\n",
        "                found = True\n",
        "                self.slots[position] = None\n",
        "                self.data[position] = None\n",
        "            else:\n",
        "                position = self.rehash(position, len(self.slots), depth=i)\n",
        "                i += 1\n",
        "                if position == startslot:\n",
        "                    stop = True\n",
        "        return found"
      ]
    },
    {
      "cell_type": "code",
      "execution_count": 188,
      "metadata": {},
      "outputs": [
        {
          "name": "stdout",
          "output_type": "stream",
          "text": [
            "[21, 1, 6, 16, 26]\n",
            "['E', 'A', 'B', 'D', 'F']\n"
          ]
        }
      ],
      "source": [
        "n = 5\n",
        "hash_table = HashTableRandom(n)\n",
        "\n",
        "hash_table[1] = \"A\"\n",
        "hash_table[6] = \"B\"\n",
        "hash_table[10] = \"C\"\n",
        "hash_table[16] = \"D\"\n",
        "hash_table[26] = \"F\"\n",
        "\n",
        "del hash_table[10]\n",
        "\n",
        "hash_table[21] = \"E\"\n",
        "\n",
        "print(hash_table.slots)\n",
        "print(hash_table.data)"
      ]
    },
    {
      "attachments": {},
      "cell_type": "markdown",
      "metadata": {},
      "source": [
        "##### Метод цепочек\n"
      ]
    },
    {
      "cell_type": "code",
      "execution_count": 106,
      "metadata": {},
      "outputs": [],
      "source": [
        "class HashTableChain(HashTableSimple):\n",
        "\n",
        "    # Создаем функцию для вставки\n",
        "    # элементов в хэш-таблицу\n",
        "    def put(self, key, data):\n",
        "        hashvalue = self.hashfunction(key, len(self.slots))\n",
        "\n",
        "        if self.slots[hashvalue] == None:\n",
        "            self.slots[hashvalue] = key\n",
        "            self.data[hashvalue] = data\n",
        "        else:\n",
        "            if type(self.slots[hashvalue]) != list:\n",
        "                self.slots[hashvalue] = [self.slots[hashvalue], key]\n",
        "                self.data[hashvalue] = [self.data[hashvalue], data]\n",
        "            else:\n",
        "                self.slots[hashvalue].append(key)\n",
        "                self.data[hashvalue].append(data)\n",
        "\n",
        "    def get(self, key):\n",
        "        hashvalue = self.hashfunction(key, len(self.slots))\n",
        "\n",
        "        if type(self.slots[hashvalue]) != list:\n",
        "            return self.data[hashvalue]\n",
        "        \n",
        "        else:\n",
        "            for i in range(len(self.slots[hashvalue])):\n",
        "                if self.slots[hashvalue][i] == key:\n",
        "                    return self.data[hashvalue][i]\n",
        "    \n",
        "    def delete(self, key):\n",
        "        hashvalue = self.hashfunction(key, len(self.slots))\n",
        "\n",
        "        if type(self.slots[hashvalue]) != list:\n",
        "            self.slots[hashvalue] = None\n",
        "            self.data[hashvalue] = None\n",
        "        \n",
        "        else:\n",
        "            for i in range(len(self.slots[hashvalue])):\n",
        "                if self.slots[hashvalue][i] == key:\n",
        "                    self.slots[hashvalue].pop(i)\n",
        "                    self.data[hashvalue].pop(i)"
      ]
    },
    {
      "cell_type": "code",
      "execution_count": 107,
      "metadata": {},
      "outputs": [
        {
          "name": "stdout",
          "output_type": "stream",
          "text": [
            "[None, [1, 6, 16, 26, 21], None, None, None]\n",
            "[None, ['A', 'B', 'D', 'F', 'E'], None, None, None]\n"
          ]
        }
      ],
      "source": [
        "n = 5\n",
        "hash_table = HashTableChain(n)\n",
        "\n",
        "hash_table[1] = \"A\"\n",
        "hash_table[6] = \"B\"\n",
        "hash_table[10] = \"C\"\n",
        "hash_table[16] = \"D\"\n",
        "hash_table[26] = \"F\"\n",
        "\n",
        "del hash_table[10]\n",
        "\n",
        "hash_table[21] = \"E\"\n",
        "\n",
        "print(hash_table.slots)\n",
        "print(hash_table.data)"
      ]
    },
    {
      "attachments": {},
      "cell_type": "markdown",
      "metadata": {},
      "source": [
        "#### Задание №3:\n",
        "***"
      ]
    },
    {
      "cell_type": "code",
      "execution_count": 133,
      "metadata": {},
      "outputs": [
        {
          "name": "stdout",
          "output_type": "stream",
          "text": [
            "X . . . . . . .\n",
            ". . X . . . . .\n",
            ". . . . X . . .\n",
            ". X . . . . . .\n",
            ". . . X . . . .\n",
            ". . . . . X . .\n",
            ". . . . . . . X\n",
            ". . . . . . . .\n"
          ]
        }
      ],
      "source": [
        "desk = [[\".\" for x in range(8)] for y in range(8)]\n",
        "desk[0][0] = \"X\"\n",
        "seen_ways_x = [0]\n",
        "seen_ways_y = [0]\n",
        "\n",
        "for i in range(7):\n",
        "    for x in range(1, 8):\n",
        "        for y in range(1, 8):\n",
        "            xes = abs(x - seen_ways_x[-1])\n",
        "            yes = abs(y - seen_ways_y[-1])\n",
        "            if x not in seen_ways_x and y not in seen_ways_y:\n",
        "                if not (((xes == 0 and yes >= 0) or (xes >= 0 and yes == 0)) or yes == xes):\n",
        "                    desk[x][y] = \"X\"\n",
        "                    seen_ways_x. append(x)\n",
        "                    seen_ways_y. append(y)\n",
        "#if (((numbers == 0 && letters >= 0) || (numbers >= 0 && letters == 0)) || letters == numbers)\n",
        "\n",
        "for i in desk:\n",
        "    print(*i)"
      ]
    },
    {
      "cell_type": "code",
      "execution_count": 6,
      "metadata": {},
      "outputs": [
        {
          "name": "stdout",
          "output_type": "stream",
          "text": [
            "92\n"
          ]
        }
      ],
      "source": [
        "desk = [[0 for x in range(8)] for y in range(8)]\n",
        "count = 0\n",
        "\n",
        "def put(x, y):\n",
        "    for i in range(8):\n",
        "        desk[i][y] += 1\n",
        "        desk[x][i] += 1\n",
        "\n",
        "        if x + y - i >= 0 and x + y - i < 8:\n",
        "            desk[x+y-i][i] += 1\n",
        "        if x - y + i >= 0 and x - y + i < 8:\n",
        "            desk[x-y+i][i] += 1\n",
        "\n",
        "    desk[x][y] = -1\n",
        "\n",
        "def remove(x, y):\n",
        "    for i in range(8):\n",
        "        desk[i][y] -= 1\n",
        "        desk[x][i] -= 1\n",
        "\n",
        "        if x + y - i >= 0 and x + y - i < 8:\n",
        "            desk[x+y-i][i] -= 1\n",
        "        if x - y + i >= 0 and x - y + i < 8:\n",
        "            desk[x-y+i][i] -= 1\n",
        "\n",
        "    desk[x][y] = 0\n",
        "\n",
        "def solve(x):\n",
        "    global count\n",
        "    for y in range(8):\n",
        "        if desk[x][y] == 0:\n",
        "            put(x, y)\n",
        "            if x == 7:\n",
        "                \"\"\"\n",
        "                for i in range(8):\n",
        "                    for j in range(8):\n",
        "                        print(\"X\" if desk[i][j] == -1 else \".\", end=' ')\n",
        "                    print()\n",
        "                break\n",
        "                \"\"\"\n",
        "                count += 1\n",
        "            else:\n",
        "                solve(x + 1)\n",
        "            remove(x, y)\n",
        "\n",
        "solve(0)\n",
        "print(count)"
      ]
    },
    {
      "attachments": {},
      "cell_type": "markdown",
      "metadata": {},
      "source": [
        "#### Тест скорости работы алгоритмов\n",
        "***"
      ]
    },
    {
      "cell_type": "code",
      "execution_count": 191,
      "metadata": {},
      "outputs": [
        {
          "name": "stdout",
          "output_type": "stream",
          "text": [
            "   Размер  Python поиск  Бинарный поиск  Бинарное дерево  Фибоначчиев поиск  \\\n",
            "0     100    138.005495      280.993938      3455.691099         495.997906   \n",
            "1     200     80.999136      156.001806      6677.001238         473.004818   \n",
            "2     300     86.999893      102.996588      8066.006899         231.009960   \n",
            "3     400    181.000233      113.015890     12193.218470         289.978504   \n",
            "\n",
            "   Интерполяционный поиск  Простое рехэширование  \\\n",
            "0               86.000681            5164.999723   \n",
            "1               91.993093           14667.007685   \n",
            "2               95.999002           10882.001162   \n",
            "3               87.003708           15152.014256   \n",
            "\n",
            "   Псевдослучайное рехэширование  Метод цепочек  \n",
            "0                   10943.003416     107.997894  \n",
            "1                   18416.994333      57.009935  \n",
            "2                   27714.000940      54.003954  \n",
            "3                   34720.993996      50.001860  \n"
          ]
        }
      ],
      "source": [
        "results = {} \n",
        "\n",
        "list_fun = [\n",
        "    python_search,\n",
        "    binary_search,\n",
        "    fibonacci_search,\n",
        "    interpolation_search\n",
        "]\n",
        "class_list = [\n",
        "    HashTableSimple,\n",
        "    HashTableRandom,\n",
        "    HashTableChain\n",
        "]\n",
        "\n",
        "array_size = [100, 200, 300, 400]\n",
        "\n",
        "results[BinarySearchTree] = []\n",
        "for i in [list_fun, class_list]:\n",
        "    for j in i:\n",
        "        results[j] = []\n",
        "\n",
        "\n",
        "for i in array_size:\n",
        "    s = generate_list(-500, 500, i, sorted=True)\n",
        "    target = random.randint(-500, 500-1)\n",
        "\n",
        "    for f in list_fun:\n",
        "        start = time.time()\n",
        "        for j in range(10_000):\n",
        "            f(s, target)\n",
        "        results[f].append((time.time() - start)*1000)\n",
        "\n",
        "    s = generate_list(-500, 500, i, sorted=True)\n",
        "\n",
        "    tree = BinarySearchTree()\n",
        "    for h in range(i):\n",
        "        tree.put(s[h], h)\n",
        "    start = time.time()\n",
        "    for j in range(10_000):\n",
        "        tree.get(s[i-1])\n",
        "    results[BinarySearchTree].append((time.time() - start) * 1000)\n",
        "\n",
        "    for c in class_list:\n",
        "        class_exapmle = c(i)\n",
        "        for h in range(i):\n",
        "            class_exapmle.put(h, s[h])\n",
        "        start = time.time()\n",
        "        for j in range(10_000):\n",
        "            class_exapmle.get(s[i-1])\n",
        "        results[c].append((time.time() - start) * 1000)\n",
        "\n",
        "data = {\n",
        "        \"Размер\": array_size,\n",
        "        \"Python поиск\": results[python_search],\n",
        "        \"Бинарный поиск\": results[binary_search],\n",
        "        \"Бинарное дерево\": results[BinarySearchTree],\n",
        "        \"Фибоначчиев поиск\": results[fibonacci_search],\n",
        "        \"Интерполяционный поиск\": results[interpolation_search],\n",
        "        \"Простое рехэширование\": results[HashTableSimple],\n",
        "        \"Псевдослучайное рехэширование\": results[HashTableRandom],\n",
        "        \"Метод цепочек\": results[HashTableChain]\n",
        "    }\n",
        "\n",
        "df = pd.DataFrame(data)\n",
        "print(df)"
      ]
    },
    {
      "cell_type": "markdown",
      "metadata": {
        "id": "diOb-K7LnO5a"
      },
      "source": [
        "### Вывод"
      ]
    }
  ],
  "metadata": {
    "colab": {
      "provenance": []
    },
    "kernelspec": {
      "display_name": "base",
      "language": "python",
      "name": "python3"
    },
    "language_info": {
      "codemirror_mode": {
        "name": "ipython",
        "version": 3
      },
      "file_extension": ".py",
      "mimetype": "text/x-python",
      "name": "python",
      "nbconvert_exporter": "python",
      "pygments_lexer": "ipython3",
      "version": "3.9.13"
    },
    "vscode": {
      "interpreter": {
        "hash": "b09ec625f77bf4fd762565a912b97636504ad6ec901eb2d0f4cf5a7de23e1ee5"
      }
    }
  },
  "nbformat": 4,
  "nbformat_minor": 0
}
