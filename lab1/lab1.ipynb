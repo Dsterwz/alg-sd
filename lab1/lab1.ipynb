{
  "cells": [
    {
      "cell_type": "markdown",
      "metadata": {
        "id": "fifteen-sailing"
      },
      "source": [
        "# Лабораторная работа №1\n",
        "## Выполнил студент группы БВТ2101 Самат уулу Максат"
      ],
      "id": "fifteen-sailing"
    },
    {
      "cell_type": "markdown",
      "metadata": {
        "id": "particular-syndicate"
      },
      "source": [
        "### Оглавление\n",
        "1. [Задание №1](#Задание-№1)\n",
        "2. [Задание №2](#Задание-№2)\n",
        "3. [Задание №3](#Задание-№3)\n",
        "4. [Вывод](#Вывод)"
      ],
      "id": "particular-syndicate"
    },
    {
      "cell_type": "markdown",
      "metadata": {
        "id": "arctic-stocks"
      },
      "source": [
        "### Задание №1\n",
        "<i> Вызвать функцию print() и передать туда строку Hello, World! </i>"
      ],
      "id": "arctic-stocks"
    },
    {
      "cell_type": "code",
      "execution_count": null,
      "metadata": {
        "colab": {
          "base_uri": "https://localhost:8080/"
        },
        "id": "caring-truck",
        "outputId": "0d1e92f8-c721-48df-a9f2-48987e028a60",
        "scrolled": true
      },
      "outputs": [
        {
          "name": "stdout",
          "output_type": "stream",
          "text": [
            "Hello, World!\n"
          ]
        }
      ],
      "source": [
        "print(\"Hello, World!\")"
      ],
      "id": "caring-truck"
    },
    {
      "cell_type": "markdown",
      "metadata": {
        "id": "maritime-conversation"
      },
      "source": [
        "### Задание №2\n",
        "Написать генератор случайных матриц(многомерных), который принимает\n",
        "опциональные параметры <b>m</b>, <b>n</b>, <b>min_limit</b>, <b>max_limit</b>, где <b>m</b> и <b>n</b> указывают размер\n",
        "матрицы, а <b>min_lim</b> и <b>max_lim</b> - минимальное и максимальное значение для\n",
        "генерируемого числа."
      ],
      "id": "maritime-conversation"
    },
    {
      "cell_type": "code",
      "execution_count": null,
      "metadata": {
        "id": "built-contact"
      },
      "outputs": [],
      "source": [
        "import random\n",
        "import time"
      ],
      "id": "built-contact"
    },
    {
      "cell_type": "code",
      "execution_count": null,
      "metadata": {
        "colab": {
          "base_uri": "https://localhost:8080/"
        },
        "id": "alert-charm",
        "outputId": "60b82858-ae71-47b7-e882-cd8a77e04f31"
      },
      "outputs": [
        {
          "name": "stdout",
          "output_type": "stream",
          "text": [
            "7\n",
            "5\n",
            "0\n",
            "200\n"
          ]
        },
        {
          "data": {
            "text/plain": [
              "(7, 5, 0, 200)"
            ]
          },
          "execution_count": 3,
          "metadata": {},
          "output_type": "execute_result"
        }
      ],
      "source": [
        "user_m = int(input())\n",
        "user_n = int(input())\n",
        "user_min_limit = int(input())\n",
        "user_max_limit = int(input())\n",
        "user_m, user_n, user_min_limit, user_max_limit"
      ],
      "id": "alert-charm"
    },
    {
      "cell_type": "code",
      "execution_count": null,
      "metadata": {
        "id": "1-gOwvYM88YQ"
      },
      "outputs": [],
      "source": [
        "def create_matrix(user_m, user_n, user_min_limit, user_max_limit):\n",
        "  matrix = [[random.randrange(user_min_limit, user_max_limit) for y in range(user_n)] for x in range(user_m)]\n",
        "  return matrix\n",
        "#matrix"
      ],
      "id": "1-gOwvYM88YQ"
    },
    {
      "cell_type": "markdown",
      "metadata": {
        "id": "catholic-roots"
      },
      "source": [
        "### Задание №3\n",
        "Реализовать методы сортировки строк числовой матрицы в соответствии с\n",
        "заданием. Оценить время работы каждого алгоритма сортировки и сравнить его со\n",
        "временем стандартной функции сортировки. Испытания проводить на сгенерированных\n",
        "матрицах."
      ],
      "id": "catholic-roots"
    },
    {
      "cell_type": "code",
      "execution_count": null,
      "metadata": {
        "id": "opposed-creature"
      },
      "outputs": [],
      "source": [
        "import copy\n",
        "import math\n",
        "\n",
        "matrix_original = create_matrix(50, 50, 0, 100)"
      ],
      "id": "opposed-creature"
    },
    {
      "cell_type": "code",
      "execution_count": null,
      "metadata": {
        "colab": {
          "base_uri": "https://localhost:8080/"
        },
        "id": "cleared-anniversary",
        "outputId": "613fc050-1d33-4199-d1ef-3bf3a204bc30"
      },
      "outputs": [
        {
          "name": "stdout",
          "output_type": "stream",
          "text": [
            "--- 9 ms ---\n"
          ]
        }
      ],
      "source": [
        "# Сортировка выбором.\n",
        "# Берётся срез массива, в котором минимальный элемент переносят в самый левый\n",
        "# угол, после чего срез уменьшается и цикл повторяется.\n",
        "\n",
        "matrix_x1 = copy.deepcopy(matrix_original)\n",
        "\n",
        "start_time = time.time()\n",
        "\n",
        "def choose(matrix):\n",
        "  # Пустой массив для записи отсорированного массива (строки матрицы).\n",
        "  sorted_list = []\n",
        "  \n",
        "  # Пробегаемся по строкам матрицы.\n",
        "  for x in range(len(matrix)):\n",
        "\n",
        "      # Пробегаемся по элементам строки матрицы.\n",
        "      for j in range(len(matrix[x])):\n",
        "\n",
        "          # Ставим макисмально возможное число, чтобы найти минимум.\n",
        "          min_num = 2147483647\n",
        "\n",
        "          # Пробегаемся по элементам строки матрицы, ищем минимальное число в ней.\n",
        "          for i in matrix[x]:\n",
        "              if min_num > i:\n",
        "                  min_num = i\n",
        "          sorted_list.append(min_num)\n",
        "          matrix[x].remove(min_num)\n",
        "\n",
        "          #print(sorted_list, '\\t', matrix[x])\n",
        "\n",
        "      matrix[x] = sorted_list\n",
        "      sorted_list = []\n",
        "\n",
        "choose(matrix_x1)\n",
        "#print(\"matrix\", matrix)\n",
        "\n",
        "print(\"--- {0} ms ---\".format(round((time.time() - start_time)*1000)))"
      ],
      "id": "cleared-anniversary"
    },
    {
      "cell_type": "code",
      "execution_count": null,
      "metadata": {
        "colab": {
          "base_uri": "https://localhost:8080/"
        },
        "id": "jV8zQ-J_dn-H",
        "outputId": "ba10aef1-1814-4576-e894-64e6c5fd2be9"
      },
      "outputs": [
        {
          "name": "stdout",
          "output_type": "stream",
          "text": [
            "--- 7 ms ---\n"
          ]
        }
      ],
      "source": [
        "# Сортировка вставкой.\n",
        "\n",
        "matrix_x2 = copy.deepcopy(matrix_original)\n",
        "\n",
        "start_time = time.time()\n",
        "\n",
        "def inputing(matrix):\n",
        "  for x in range(len(matrix)):\n",
        "      sorted_list = []\n",
        "      sorted_list.append(matrix[x][0])\n",
        "      #print(matrix[x], end='\\t')\n",
        "      for i in range(1, len(matrix[x])):\n",
        "          for j in range(len(sorted_list)):\n",
        "              drug = True\n",
        "              if matrix[x][i] < sorted_list[j]:\n",
        "                  sorted_list.insert(j, matrix[x][i])\n",
        "                  drug = False\n",
        "                  break\n",
        "                  \n",
        "          if drug:\n",
        "              sorted_list.append(matrix[x][i])\n",
        "      matrix[x] = sorted_list\n",
        "                \n",
        "    #print(sorted_list, end='\\n')\n",
        "\n",
        "inputing(matrix_x2)\n",
        "\n",
        "print(\"--- {0} ms ---\".format(round((time.time() - start_time)*1000)))"
      ],
      "id": "jV8zQ-J_dn-H"
    },
    {
      "cell_type": "code",
      "execution_count": null,
      "metadata": {
        "colab": {
          "base_uri": "https://localhost:8080/"
        },
        "id": "vital-implementation",
        "outputId": "f243e85d-7129-4e77-d473-c24ebe01889e"
      },
      "outputs": [
        {
          "name": "stdout",
          "output_type": "stream",
          "text": [
            "--- 36 ms ---\n"
          ]
        }
      ],
      "source": [
        "# Сортировка обменом. || Сортировка пузырьком.\n",
        "\n",
        "matrix_x3 = copy.deepcopy(matrix_original)\n",
        "\n",
        "start_time = time.time()\n",
        "\n",
        "def exchange(matrix):\n",
        "  # Пробегаемся по строкам матрицы.\n",
        "  for x in range(len(matrix)):\n",
        "\n",
        "      # Флаг для остановки цикла. Сразу при запуске становится False, и, если\n",
        "      # переставлять больше нечего, то цикл прекратится.\n",
        "      drug = True\n",
        "      while drug:\n",
        "          drug = False\n",
        "\n",
        "          # Пробегаемся по элементам строки матрицы.\n",
        "          for i in range(len(matrix[x]) - 1):\n",
        "\n",
        "              # Меняем местами, если они стоят неправильно.\n",
        "              if matrix[x][i] > matrix[x][i+1]:\n",
        "                  matrix[x][i], matrix[x][i+1] = matrix[x][i+1], matrix[x][i]\n",
        "                  drug = True\n",
        "\n",
        "    #print(matrix[x])\n",
        "\n",
        "exchange(matrix_x3)\n",
        "\n",
        "print(\"--- {0} ms ---\".format(round((time.time() - start_time)*1000)))"
      ],
      "id": "vital-implementation"
    },
    {
      "cell_type": "code",
      "execution_count": null,
      "metadata": {
        "colab": {
          "base_uri": "https://localhost:8080/"
        },
        "id": "veterinary-glory",
        "outputId": "690b4e1e-b061-44ba-e80f-05163b332fda"
      },
      "outputs": [
        {
          "name": "stdout",
          "output_type": "stream",
          "text": [
            "--- 10 ms ---\n"
          ]
        }
      ],
      "source": [
        "# Сортировка Шелла.\n",
        "\n",
        "matrix_x4 = copy.deepcopy(matrix_original)\n",
        "\n",
        "start_time = time.time()\n",
        "\n",
        "def shell(matrix):\n",
        "  # Интервалы для сортировки Шелла. Эмпирическая последовательность Марцина Циура \n",
        "  d = [1750, 701, 301, 132, 57, 23, 10, 4, 1]\n",
        "\n",
        "  # Пробегаемся по строкам матрицы.\n",
        "  for x in range(len(matrix)):\n",
        "\n",
        "      # Пробегаемся по интервалам.\n",
        "      for delay in d:\n",
        "          if delay < user_n:\n",
        "\n",
        "              # Массив для записи отсорированного массива (строки матрицы).\n",
        "              # В него записываем первый элемент.\n",
        "              sorted_list = [matrix[x][0]]\n",
        "\n",
        "              # Пробегаемся по элементам строки матрицы с заданным интервалом.\n",
        "              for i in range(1, len(matrix[x]), delay):\n",
        "\n",
        "                  # Сортировка вставками.\n",
        "                  for j in range(len(sorted_list)):\n",
        "                      drug = True\n",
        "                      if matrix[x][i] < sorted_list[j]:\n",
        "                          sorted_list.insert(j, matrix[x][i])\n",
        "                          drug = False\n",
        "                          break\n",
        "\n",
        "                  if drug:\n",
        "                      sorted_list.append(matrix[x][i])\n",
        "\n",
        "      matrix[x] = sorted_list\n",
        "\n",
        "shell(matrix_x4)\n",
        "\n",
        "print(\"--- {0} ms ---\".format(round((time.time() - start_time)*1000)))"
      ],
      "id": "veterinary-glory"
    },
    {
      "cell_type": "code",
      "execution_count": null,
      "metadata": {
        "colab": {
          "base_uri": "https://localhost:8080/"
        },
        "id": "correct-chaos",
        "outputId": "1c3b1a49-4304-4dde-c735-06d342c3c7d3"
      },
      "outputs": [
        {
          "name": "stdout",
          "output_type": "stream",
          "text": [
            "--- 1 ms ---\n"
          ]
        }
      ],
      "source": [
        "# Быстрая сортировка.\n",
        "\n",
        "matrix_x5 = copy.deepcopy(matrix_original)\n",
        "\n",
        "start_time = time.time()\n",
        "\n",
        "\n",
        "# Создаём функцию, чтобы рекурсивно выполнять её.\n",
        "def q_sort(massiv, f, l):\n",
        "\n",
        "    # Критерий для остановки рекурсии.\n",
        "    if f >= l: return\n",
        "\n",
        "    # Индекс начала.\n",
        "    i = f\n",
        "\n",
        "    # Индекс конца.\n",
        "    j = l\n",
        "\n",
        "    # Опорный элемент. Индексы начала и конца будут идти до него.\n",
        "    opora = massiv[random.randint(f, l)]\n",
        "\n",
        "    # Ищем числа, стоящие не на своём месте. Меняем их, сместив индексы.\n",
        "    while i <= j:\n",
        "        while massiv[i] < opora: i += 1\n",
        "        while massiv[j] > opora: j -= 1\n",
        "\n",
        "        if i <= j:\n",
        "            massiv[j], massiv[i] = massiv[i], massiv[j]\n",
        "            i += 1\n",
        "            j -= 1\n",
        "\n",
        "    # Выполняем те же операции, только с уменьшенным масивом. Идём с начала до j.\n",
        "    q_sort(massiv, f, j)\n",
        "\n",
        "    # Выполняем те же операции, только с уменьшенным масивом. Идём с i до конца.\n",
        "    q_sort(massiv, i, l)\n",
        "\n",
        "def quick_sort(matrix):\n",
        "  for x in range(len(matrix)):\n",
        "      q_sort(matrix[x], 0, user_n-1)\n",
        "\n",
        "quick_sort(matrix_x5)\n",
        "\n",
        "print(\"--- {0} ms ---\".format(round((time.time() - start_time)*1000)))"
      ],
      "id": "correct-chaos"
    },
    {
      "cell_type": "code",
      "execution_count": null,
      "metadata": {
        "colab": {
          "base_uri": "https://localhost:8080/"
        },
        "id": "french-czech",
        "outputId": "badf5b53-63c2-475d-eaec-258ae418c1bd"
      },
      "outputs": [
        {
          "name": "stdout",
          "output_type": "stream",
          "text": [
            "--- 26 ms ---\n"
          ]
        }
      ],
      "source": [
        "# Турнирная сортировка.\n",
        "\n",
        "matrix_x6 = copy.deepcopy(matrix_original)\n",
        "\n",
        "start_time = time.time()\n",
        "\n",
        "# Создаём функцию, чтобы рекурсивно выполнять её.\n",
        "def piramyd_sort(massiv, n, sl):\n",
        "    \n",
        "    # Критерий для остановки рекурсии.\n",
        "    if n <= 1: return\n",
        "    \n",
        "    # Глубина рекурсии.\n",
        "    depth = int(math.log2(n))+1\n",
        "\n",
        "    # Массив для хранения наименьшего числа.\n",
        "    god_damn = massiv\n",
        "\n",
        "    # Цикл разбивает элементы массива по парам.\n",
        "    for m in range(depth):\n",
        "\n",
        "        # Временный массив для записи.\n",
        "        temp_massiv = []\n",
        "\n",
        "        #print(god_damn)\n",
        "\n",
        "        # Добавляем во временный массив минимальное число из пары.\n",
        "        for i in range(0, len(god_damn) - 1, 2):\n",
        "            temp_massiv.append(min(god_damn[i], god_damn[i+1]))\n",
        "\n",
        "        # Учитываем то, что в кол-во элементов может быть нечётным.\n",
        "        # Тогда просто создаём массив из числа, не попавшего в пару.\n",
        "        if len(god_damn) % 2 != 0:\n",
        "            temp_massiv.append(god_damn[-1])\n",
        "\n",
        "\n",
        "        god_damn = temp_massiv\n",
        "\n",
        "    sl.append(god_damn[-1])\n",
        "    massiv.remove(god_damn[-1])\n",
        "    piramyd_sort(massiv, len(massiv), sl)\n",
        "\n",
        "\n",
        "def tournament(matrix):\n",
        "  sorted_list = []\n",
        "\n",
        "  for x in range(len(matrix)):\n",
        "      # Пустой массив для записи отсорированного массива (строки матрицы).\n",
        "      piramyd_sort(matrix[x], len(matrix), sorted_list)\n",
        "      sorted_list.append(matrix[x][-1])\n",
        "      matrix[x] = sorted_list\n",
        "      #print(sorted_list)\n",
        "  return sorted_list\n",
        "\n",
        "tournament(matrix_x6) \n",
        "\n",
        "print(\"--- {0} ms ---\".format(round((time.time() - start_time)*1000)))"
      ],
      "id": "french-czech"
    },
    {
      "cell_type": "code",
      "execution_count": null,
      "metadata": {
        "colab": {
          "background_save": true
        },
        "id": "kr3CRgclaypw",
        "outputId": "695b7dca-b903-4aac-b184-5c62246f8eb1"
      },
      "outputs": [
        {
          "ename": "RecursionError",
          "evalue": "ignored",
          "output_type": "error",
          "traceback": [
            "\u001b[0;31m---------------------------------------------------------------------------\u001b[0m",
            "\u001b[0;31mRecursionError\u001b[0m                            Traceback (most recent call last)",
            "\u001b[0;32m<ipython-input-97-6219289e6713>\u001b[0m in \u001b[0;36m<module>\u001b[0;34m\u001b[0m\n\u001b[1;32m     37\u001b[0m \u001b[0;34m\u001b[0m\u001b[0m\n\u001b[1;32m     38\u001b[0m   \u001b[0mstart_time\u001b[0m \u001b[0;34m=\u001b[0m \u001b[0mtime\u001b[0m\u001b[0;34m.\u001b[0m\u001b[0mtime\u001b[0m\u001b[0;34m(\u001b[0m\u001b[0;34m)\u001b[0m\u001b[0;34m\u001b[0m\u001b[0;34m\u001b[0m\u001b[0m\n\u001b[0;32m---> 39\u001b[0;31m   \u001b[0mtournament\u001b[0m\u001b[0;34m(\u001b[0m\u001b[0mmatrix_tournir\u001b[0m\u001b[0;34m)\u001b[0m\u001b[0;34m\u001b[0m\u001b[0;34m\u001b[0m\u001b[0m\n\u001b[0m\u001b[1;32m     40\u001b[0m   \u001b[0mtournir_sort\u001b[0m\u001b[0;34m.\u001b[0m\u001b[0mappend\u001b[0m\u001b[0;34m(\u001b[0m\u001b[0;34m(\u001b[0m\u001b[0mtime\u001b[0m\u001b[0;34m.\u001b[0m\u001b[0mtime\u001b[0m\u001b[0;34m(\u001b[0m\u001b[0;34m)\u001b[0m \u001b[0;34m-\u001b[0m \u001b[0mstart_time\u001b[0m\u001b[0;34m)\u001b[0m\u001b[0;34m*\u001b[0m\u001b[0;36m1000\u001b[0m\u001b[0;34m)\u001b[0m\u001b[0;34m\u001b[0m\u001b[0;34m\u001b[0m\u001b[0m\n",
            "\u001b[0;32m<ipython-input-92-e55e75194d81>\u001b[0m in \u001b[0;36mtournament\u001b[0;34m(matrix)\u001b[0m\n\u001b[1;32m     47\u001b[0m   \u001b[0;32mfor\u001b[0m \u001b[0mx\u001b[0m \u001b[0;32min\u001b[0m \u001b[0mrange\u001b[0m\u001b[0;34m(\u001b[0m\u001b[0mlen\u001b[0m\u001b[0;34m(\u001b[0m\u001b[0mmatrix\u001b[0m\u001b[0;34m)\u001b[0m\u001b[0;34m)\u001b[0m\u001b[0;34m:\u001b[0m\u001b[0;34m\u001b[0m\u001b[0;34m\u001b[0m\u001b[0m\n\u001b[1;32m     48\u001b[0m       \u001b[0;31m# Пустой массив для записи отсорированного массива (строки матрицы).\u001b[0m\u001b[0;34m\u001b[0m\u001b[0;34m\u001b[0m\u001b[0;34m\u001b[0m\u001b[0m\n\u001b[0;32m---> 49\u001b[0;31m       \u001b[0mpiramyd_sort\u001b[0m\u001b[0;34m(\u001b[0m\u001b[0mmatrix\u001b[0m\u001b[0;34m[\u001b[0m\u001b[0mx\u001b[0m\u001b[0;34m]\u001b[0m\u001b[0;34m,\u001b[0m \u001b[0mlen\u001b[0m\u001b[0;34m(\u001b[0m\u001b[0mmatrix\u001b[0m\u001b[0;34m)\u001b[0m\u001b[0;34m,\u001b[0m \u001b[0msorted_list\u001b[0m\u001b[0;34m)\u001b[0m\u001b[0;34m\u001b[0m\u001b[0;34m\u001b[0m\u001b[0m\n\u001b[0m\u001b[1;32m     50\u001b[0m       \u001b[0msorted_list\u001b[0m\u001b[0;34m.\u001b[0m\u001b[0mappend\u001b[0m\u001b[0;34m(\u001b[0m\u001b[0mmatrix\u001b[0m\u001b[0;34m[\u001b[0m\u001b[0mx\u001b[0m\u001b[0;34m]\u001b[0m\u001b[0;34m[\u001b[0m\u001b[0;34m-\u001b[0m\u001b[0;36m1\u001b[0m\u001b[0;34m]\u001b[0m\u001b[0;34m)\u001b[0m\u001b[0;34m\u001b[0m\u001b[0;34m\u001b[0m\u001b[0m\n\u001b[1;32m     51\u001b[0m       \u001b[0mmatrix\u001b[0m\u001b[0;34m[\u001b[0m\u001b[0mx\u001b[0m\u001b[0;34m]\u001b[0m \u001b[0;34m=\u001b[0m \u001b[0msorted_list\u001b[0m\u001b[0;34m\u001b[0m\u001b[0;34m\u001b[0m\u001b[0m\n",
            "\u001b[0;32m<ipython-input-92-e55e75194d81>\u001b[0m in \u001b[0;36mpiramyd_sort\u001b[0;34m(massiv, n, sl)\u001b[0m\n\u001b[1;32m     39\u001b[0m     \u001b[0msl\u001b[0m\u001b[0;34m.\u001b[0m\u001b[0mappend\u001b[0m\u001b[0;34m(\u001b[0m\u001b[0mgod_damn\u001b[0m\u001b[0;34m[\u001b[0m\u001b[0;34m-\u001b[0m\u001b[0;36m1\u001b[0m\u001b[0;34m]\u001b[0m\u001b[0;34m)\u001b[0m\u001b[0;34m\u001b[0m\u001b[0;34m\u001b[0m\u001b[0m\n\u001b[1;32m     40\u001b[0m     \u001b[0mmassiv\u001b[0m\u001b[0;34m.\u001b[0m\u001b[0mremove\u001b[0m\u001b[0;34m(\u001b[0m\u001b[0mgod_damn\u001b[0m\u001b[0;34m[\u001b[0m\u001b[0;34m-\u001b[0m\u001b[0;36m1\u001b[0m\u001b[0;34m]\u001b[0m\u001b[0;34m)\u001b[0m\u001b[0;34m\u001b[0m\u001b[0;34m\u001b[0m\u001b[0m\n\u001b[0;32m---> 41\u001b[0;31m     \u001b[0mpiramyd_sort\u001b[0m\u001b[0;34m(\u001b[0m\u001b[0mmassiv\u001b[0m\u001b[0;34m,\u001b[0m \u001b[0mlen\u001b[0m\u001b[0;34m(\u001b[0m\u001b[0mmassiv\u001b[0m\u001b[0;34m)\u001b[0m\u001b[0;34m,\u001b[0m \u001b[0msl\u001b[0m\u001b[0;34m)\u001b[0m\u001b[0;34m\u001b[0m\u001b[0;34m\u001b[0m\u001b[0m\n\u001b[0m\u001b[1;32m     42\u001b[0m \u001b[0;34m\u001b[0m\u001b[0m\n\u001b[1;32m     43\u001b[0m \u001b[0;34m\u001b[0m\u001b[0m\n",
            "... last 1 frames repeated, from the frame below ...\n",
            "\u001b[0;32m<ipython-input-92-e55e75194d81>\u001b[0m in \u001b[0;36mpiramyd_sort\u001b[0;34m(massiv, n, sl)\u001b[0m\n\u001b[1;32m     39\u001b[0m     \u001b[0msl\u001b[0m\u001b[0;34m.\u001b[0m\u001b[0mappend\u001b[0m\u001b[0;34m(\u001b[0m\u001b[0mgod_damn\u001b[0m\u001b[0;34m[\u001b[0m\u001b[0;34m-\u001b[0m\u001b[0;36m1\u001b[0m\u001b[0;34m]\u001b[0m\u001b[0;34m)\u001b[0m\u001b[0;34m\u001b[0m\u001b[0;34m\u001b[0m\u001b[0m\n\u001b[1;32m     40\u001b[0m     \u001b[0mmassiv\u001b[0m\u001b[0;34m.\u001b[0m\u001b[0mremove\u001b[0m\u001b[0;34m(\u001b[0m\u001b[0mgod_damn\u001b[0m\u001b[0;34m[\u001b[0m\u001b[0;34m-\u001b[0m\u001b[0;36m1\u001b[0m\u001b[0;34m]\u001b[0m\u001b[0;34m)\u001b[0m\u001b[0;34m\u001b[0m\u001b[0;34m\u001b[0m\u001b[0m\n\u001b[0;32m---> 41\u001b[0;31m     \u001b[0mpiramyd_sort\u001b[0m\u001b[0;34m(\u001b[0m\u001b[0mmassiv\u001b[0m\u001b[0;34m,\u001b[0m \u001b[0mlen\u001b[0m\u001b[0;34m(\u001b[0m\u001b[0mmassiv\u001b[0m\u001b[0;34m)\u001b[0m\u001b[0;34m,\u001b[0m \u001b[0msl\u001b[0m\u001b[0;34m)\u001b[0m\u001b[0;34m\u001b[0m\u001b[0;34m\u001b[0m\u001b[0m\n\u001b[0m\u001b[1;32m     42\u001b[0m \u001b[0;34m\u001b[0m\u001b[0m\n\u001b[1;32m     43\u001b[0m \u001b[0;34m\u001b[0m\u001b[0m\n",
            "\u001b[0;31mRecursionError\u001b[0m: maximum recursion depth exceeded in comparison"
          ]
        }
      ],
      "source": [
        "#Генерируем 6 Матриц от\n",
        "vibor_time = []\n",
        "vstavka_time = []\n",
        "bubble_time = []\n",
        "shell_time = []\n",
        "quick_sort = []\n",
        "tournir_sort = []\n",
        "data = [5,10,25,50,75,100, 2000]\n",
        "for i in data:\n",
        "  time_matrix = create_matrix(i,i,0,100)\n",
        "  matrix_vibor = copy.deepcopy(time_matrix)\n",
        "  matrix_vstavka = copy.deepcopy(time_matrix)\n",
        "  matrix_bubble = copy.deepcopy(time_matrix)\n",
        "  matrix_shell = copy.deepcopy(time_matrix)\n",
        "  matrix_quick_1 = copy.deepcopy(time_matrix)\n",
        "  matrix_tournir = copy.deepcopy(time_matrix)\n",
        "\n",
        "  start_time = time.time()\n",
        "  choose(matrix_vibor)\n",
        "  vibor_time.append((time.time() - start_time)*1000)\n",
        "\n",
        "  start_time = time.time()\n",
        "  inputing(matrix_vstavka)\n",
        "  vstavka_time.append((time.time() - start_time)*1000)\n",
        "\n",
        "  start_time = time.time()\n",
        "  exchange(matrix_bubble)\n",
        "  bubble_time.append((time.time() - start_time)*1000)\n",
        "\n",
        "  start_time = time.time()\n",
        "  shell(matrix_shell)\n",
        "  shell_time.append((time.time() - start_time)*1000)\n",
        "\n",
        "  start_time = time.time()\n",
        "  #quick_sort(matrix_quick_1)\n",
        "  quick_sort.append((time.time() - start_time)*1000)\n",
        "\n",
        "  start_time = time.time()\n",
        "  tournament(matrix_tournir)\n",
        "  tournir_sort.append((time.time() - start_time)*1000)"
      ],
      "id": "kr3CRgclaypw"
    },
    {
      "cell_type": "code",
      "execution_count": null,
      "metadata": {
        "id": "XpXTpg1coNzW"
      },
      "outputs": [],
      "source": [
        "import numpy as np\n",
        "import matplotlib.pyplot as plt"
      ],
      "id": "XpXTpg1coNzW"
    },
    {
      "cell_type": "code",
      "execution_count": null,
      "metadata": {
        "colab": {
          "base_uri": "https://localhost:8080/",
          "height": 338
        },
        "id": "eELzzdtIaygX",
        "outputId": "45f4aead-b120-443f-ba78-17ab8726df6c"
      },
      "outputs": [
        {
          "data": {
            "text/plain": [
              "<matplotlib.legend.Legend at 0x7ff914565b80>"
            ]
          },
          "execution_count": 95,
          "metadata": {},
          "output_type": "execute_result"
        },
        {
          "data": {
            "image/png": "[encoded data removed]",
            "text/plain": [
              "<Figure size 720x360 with 1 Axes>"
            ]
          },
          "metadata": {},
          "output_type": "display_data"
        }
      ],
      "source": [
        "plt.figure(figsize=(10, 5))\n",
        "plt.plot(data,vibor_time,label=r'Выбор')\n",
        "plt.plot(data,vstavka_time,label=r'Вставка')\n",
        "plt.plot(data,bubble_time,label=r'Пузырь')\n",
        "plt.legend(fontsize=12)"
      ],
      "id": "eELzzdtIaygX"
    },
    {
      "cell_type": "code",
      "execution_count": null,
      "metadata": {
        "colab": {
          "base_uri": "https://localhost:8080/",
          "height": 338
        },
        "id": "Zy86FVPua4WR",
        "outputId": "5fdee095-de03-4aa4-e826-e9e951cfacc2"
      },
      "outputs": [
        {
          "data": {
            "text/plain": [
              "<matplotlib.legend.Legend at 0x7ff914435340>"
            ]
          },
          "execution_count": 96,
          "metadata": {},
          "output_type": "execute_result"
        },
        {
          "data": {
            "image/png": "[encoded data removed]",
            "text/plain": [
              "<Figure size 720x360 with 1 Axes>"
            ]
          },
          "metadata": {},
          "output_type": "display_data"
        }
      ],
      "source": [
        "plt.figure(figsize=(10, 5))\n",
        "plt.plot(data,shell_time,label=r'Шелл')\n",
        "plt.plot(data,tournir_sort,label=r'Турнирная')\n",
        "plt.legend(fontsize=12)"
      ],
      "id": "Zy86FVPua4WR"
    },
    {
      "cell_type": "markdown",
      "metadata": {
        "id": "rental-jerusalem"
      },
      "source": [
        "### Вывод\n"
      ],
      "id": "rental-jerusalem"
    },
    {
      "cell_type": "markdown",
      "metadata": {
        "id": "9d108a0a"
      },
      "source": [
        "Различные алгоритмы показывают разные резултаты, при разных входных данных. Это говорит о том, что в разных случаях будут востребованы конкретные алгоритмы. Нашли за сколько обрабатывает матрицу 50 на 50 каждый алгоритм\n",
        "\n",
        "\n",
        "\n",
        "1.   Выбор (7ms)\n",
        "2.   Вставка (9ms)\n",
        "3.   Пузырьком (36ms)\n",
        "4.   Шелла (10ms)\n",
        "5.   Быстрая (1ms)\n",
        "6.   Турнирная (26ms)"
      ],
      "id": "9d108a0a"
    }
  ],
  "metadata": {
    "colab": {
      "provenance": []
    },
    "kernelspec": {
      "display_name": "Python 3 (ipykernel)",
      "language": "python",
      "name": "python3"
    },
    "language_info": {
      "codemirror_mode": {
        "name": "ipython",
        "version": 3
      },
      "file_extension": ".py",
      "mimetype": "text/x-python",
      "name": "python",
      "nbconvert_exporter": "python",
      "pygments_lexer": "ipython3",
      "version": "3.10.2"
    }
  },
  "nbformat": 4,
  "nbformat_minor": 5
}