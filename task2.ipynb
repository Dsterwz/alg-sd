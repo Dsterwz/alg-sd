{
 "cells": [
  {
   "attachments": {},
   "cell_type": "markdown",
   "metadata": {},
   "source": [
    "# Контрольные задачи по дисциплине СиАОД №2"
   ]
  },
  {
   "attachments": {},
   "cell_type": "markdown",
   "metadata": {},
   "source": [
    "## Выполнил студент группы Самат уулу Максат БВТ2101\n",
    "***"
   ]
  },
  {
   "attachments": {},
   "cell_type": "markdown",
   "metadata": {},
   "source": [
    "### Задание\n",
    "\n",
    "1.  Даны две строки: s1 и s2 с одинаковым размером, проверьте, может ли некоторая перестановка строки s1 “победить” некоторую перестановку строки s2 или наоборот. Строка x может “победить строку y (обе имеют размер n), если x[i]> = y[i] (в алфавитном порядке) для всех i от 0 до n-1.\n",
    "\n",
    "2.  Дана строка s, вернуть самую длинную полиндромную подстроку в s.\n",
    "\n",
    "3.  Вернуть количество отдельных непустых подстрок текста, которые могут быть записаны как конкатенация некоторой строки с самой собой (т.е. она может быть записана, как a + a, где a - некоторая строка)."
   ]
  },
  {
   "attachments": {},
   "cell_type": "markdown",
   "metadata": {},
   "source": [
    "#### Задача 1:"
   ]
  },
  {
   "cell_type": "code",
   "execution_count": 38,
   "metadata": {},
   "outputs": [],
   "source": [
    "def word_fight(s1: str, s2: str) -> bool:\n",
    "    s1 = [x for x in s1]\n",
    "    s2 = [x for x in s2]\n",
    "    s1.sort()\n",
    "    s2.sort()\n",
    "    c = 0\n",
    "    if s1[-1] > s2[-1]:\n",
    "        s1, s2 = s2, s1\n",
    "\n",
    "    for i in range(len(s1)):\n",
    "        if s2[i] >= s1[i]:\n",
    "            c += 1\n",
    "        else:\n",
    "            c -= 1\n",
    "    return abs(c) == len(s1)"
   ]
  },
  {
   "cell_type": "code",
   "execution_count": 39,
   "metadata": {},
   "outputs": [
    {
     "name": "stdout",
     "output_type": "stream",
     "text": [
      "Ввод: s1 = abc, s2 = xya\n",
      "Вывод: True\n",
      "\n",
      "Ввод: s1 = abe, s2 = acd\n",
      "Вывод: False\n"
     ]
    }
   ],
   "source": [
    "#a = input().split(\" \")\n",
    "#a = [int(x) for x in a]\n",
    "print(\"Ввод:\", end=' ')\n",
    "s1, s2 = \"abc\", \"xya\"\n",
    "print(f\"s1 = {s1}, s2 = {s2}\")\n",
    "print(\"Вывод:\", end=' ')\n",
    "print(word_fight(s1, s2))\n",
    "print()\n",
    "\n",
    "print(\"Ввод:\", end=' ')\n",
    "s1, s2 = \"abe\", \"acd\"\n",
    "print(f\"s1 = {s1}, s2 = {s2}\")\n",
    "print(\"Вывод:\", end=' ')\n",
    "print(word_fight(s1, s2))"
   ]
  },
  {
   "cell_type": "code",
   "execution_count": 40,
   "metadata": {},
   "outputs": [
    {
     "name": "stdout",
     "output_type": "stream",
     "text": [
      "Ввод: s1 = norm, s2 = bnql\n",
      "Вывод: True\n",
      "\n",
      "Ввод: s1 = flex, s2 = gmah\n",
      "Вывод: False\n"
     ]
    }
   ],
   "source": [
    "#a = input().split(\" \")\n",
    "#a = [int(x) for x in a]\n",
    "print(\"Ввод:\", end=' ')\n",
    "s1, s2 = \"norm\", \"bnql\"\n",
    "print(f\"s1 = {s1}, s2 = {s2}\")\n",
    "print(\"Вывод:\", end=' ')\n",
    "print(word_fight(s1, s2))\n",
    "print()\n",
    "\n",
    "print(\"Ввод:\", end=' ')\n",
    "s1, s2 = \"flex\", \"gmah\"\n",
    "print(f\"s1 = {s1}, s2 = {s2}\")\n",
    "print(\"Вывод:\", end=' ')\n",
    "print(word_fight(s1, s2))"
   ]
  },
  {
   "attachments": {},
   "cell_type": "markdown",
   "metadata": {},
   "source": [
    "#### Задача 2:"
   ]
  },
  {
   "cell_type": "code",
   "execution_count": 28,
   "metadata": {},
   "outputs": [],
   "source": [
    "def max_pal(s: str):\n",
    "    a = len(s)//2\n",
    "    f = 0 if len(s) % 2 != 0 and len(s) != 1 else 1\n",
    "    result = \"\"\n",
    "    \n",
    "    for j in range(a, 1, -1):\n",
    "        for i in range(1, j):\n",
    "            if s[j-i] == s[j+i-f]:\n",
    "                if result ==  \"\": result = s[j-i+1:j+i-f]\n",
    "                result = s[j-i] + result + s[j+i-f]\n",
    "\n",
    "    return result"
   ]
  },
  {
   "cell_type": "code",
   "execution_count": 29,
   "metadata": {},
   "outputs": [
    {
     "name": "stdout",
     "output_type": "stream",
     "text": [
      "Ввод: babad\n",
      "Вывод: aba\n",
      "\n",
      "Ввод: cbbd\n",
      "Вывод: bb\n"
     ]
    }
   ],
   "source": [
    "#s = input().split(\" \")\n",
    "#s = [int(x) for x in s]\n",
    "print(\"Ввод:\", end=' ')\n",
    "s = \"babad\"\n",
    "print(s)\n",
    "print(\"Вывод:\", end=' ')\n",
    "print(max_pal(s))\n",
    "print()\n",
    "\n",
    "print(\"Ввод:\", end=' ')\n",
    "s = \"cbbd\"\n",
    "print(s)\n",
    "print(\"Вывод:\", end=' ')\n",
    "print(max_pal(s))"
   ]
  },
  {
   "cell_type": "code",
   "execution_count": 30,
   "metadata": {},
   "outputs": [
    {
     "name": "stdout",
     "output_type": "stream",
     "text": [
      "Ввод: a\n",
      "Вывод: \n",
      "\n",
      "Ввод: abcdefedcbghi\n",
      "Вывод: bcdefedcb\n"
     ]
    }
   ],
   "source": [
    "print(\"Ввод:\", end=' ')\n",
    "s = \"a\"\n",
    "print(s)\n",
    "print(\"Вывод:\", end=' ')\n",
    "print(max_pal(s))\n",
    "print()\n",
    "\n",
    "print(\"Ввод:\", end=' ')\n",
    "s = \"abcdefedcbghi\"\n",
    "print(s)\n",
    "print(\"Вывод:\", end=' ')\n",
    "print(max_pal(s))"
   ]
  },
  {
   "cell_type": "markdown",
   "metadata": {},
   "source": [
    "#### Задача 3:"
   ]
  },
  {
   "cell_type": "code",
   "execution_count": 66,
   "metadata": {},
   "outputs": [],
   "source": [
    "def num_sub(text: str):\n",
    "    result = 1\n",
    "    step = 0\n",
    "\n",
    "    s = text[0]\n",
    "    for i in range(1, len(text)):\n",
    "        if text[i] == s:\n",
    "            step = i\n",
    "            break\n",
    "    \n",
    "    if step == 0:\n",
    "        return 0\n",
    "\n",
    "    for i in range(step, len(text), step):\n",
    "        #print(text[i-step:i], text[i:i+step])\n",
    "        if text[i-step:i] == text[i:i+step]:\n",
    "            result += 1\n",
    "        else:\n",
    "            return 0\n",
    "\n",
    "    return result"
   ]
  },
  {
   "cell_type": "code",
   "execution_count": 69,
   "metadata": {},
   "outputs": [
    {
     "name": "stdout",
     "output_type": "stream",
     "text": [
      "Ввод: abcabcabc\n",
      "Вывод: 3\n"
     ]
    }
   ],
   "source": [
    "print(\"Ввод:\", end=' ')\n",
    "text = \"abcabcabc\"\n",
    "print(text)\n",
    "print(\"Вывод:\", end=' ')\n",
    "print(num_sub(text))"
   ]
  },
  {
   "cell_type": "code",
   "execution_count": 70,
   "metadata": {},
   "outputs": [
    {
     "name": "stdout",
     "output_type": "stream",
     "text": [
      "Ввод: flexgang\n",
      "Вывод: 0\n",
      "\n",
      "Ввод: ffffffff\n",
      "Вывод: 8\n",
      "\n",
      "Ввод: fffffaff\n",
      "Вывод: 0\n"
     ]
    }
   ],
   "source": [
    "print(\"Ввод:\", end=' ')\n",
    "text = \"flexgang\"\n",
    "print(text)\n",
    "print(\"Вывод:\", end=' ')\n",
    "print(num_sub(text))\n",
    "print()\n",
    "\n",
    "print(\"Ввод:\", end=' ')\n",
    "text = \"ffffffff\"\n",
    "print(text)\n",
    "print(\"Вывод:\", end=' ')\n",
    "print(num_sub(text))\n",
    "print()\n",
    "\n",
    "print(\"Ввод:\", end=' ')\n",
    "text = \"fffffaff\"\n",
    "print(text)\n",
    "print(\"Вывод:\", end=' ')\n",
    "print(num_sub(text))"
   ]
  }
 ],
 "metadata": {
  "kernelspec": {
   "display_name": "base",
   "language": "python",
   "name": "python3"
  },
  "language_info": {
   "codemirror_mode": {
    "name": "ipython",
    "version": 3
   },
   "file_extension": ".py",
   "mimetype": "text/x-python",
   "name": "python",
   "nbconvert_exporter": "python",
   "pygments_lexer": "ipython3",
   "version": "3.9.13"
  },
  "orig_nbformat": 4
 },
 "nbformat": 4,
 "nbformat_minor": 2
}
